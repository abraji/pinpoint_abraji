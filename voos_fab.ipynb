{
 "cells": [
  {
   "cell_type": "code",
   "execution_count": null,
   "id": "d097a7bb-d19b-4512-a22a-3ffcf89831cc",
   "metadata": {},
   "outputs": [],
   "source": [
    "# -*- coding: utf-8\n",
    "# Reinaldo Chaves (@paidatocandeira)\n",
    "# Captura os PDFs de voos da FAB - Força Aérea Brasileira - desde 2013\n",
    "#"
   ]
  },
  {
   "cell_type": "code",
   "execution_count": null,
   "id": "a327f00c-ad69-4c3b-8284-6b4b21d2e21e",
   "metadata": {},
   "outputs": [],
   "source": []
  },
  {
   "cell_type": "code",
   "execution_count": 2,
   "id": "e6a03c88-7c4e-4f13-b807-3c6eee807eaf",
   "metadata": {},
   "outputs": [],
   "source": [
    "from selenium import webdriver\n",
    "from selenium.webdriver.common.keys import Keys\n",
    "from selenium.webdriver.support.ui import WebDriverWait\n",
    "from selenium.webdriver.support import expected_conditions as EC\n",
    "from selenium.webdriver.common.by import By\n",
    "from selenium.webdriver.support.ui import Select\n",
    "import time\n",
    "import os\n",
    "import requests\n",
    "import pandas as pd\n",
    "import wget"
   ]
  },
  {
   "cell_type": "code",
   "execution_count": null,
   "id": "5b0343cd-de8d-4e7e-95a1-6ffee8f65cd4",
   "metadata": {},
   "outputs": [],
   "source": []
  },
  {
   "cell_type": "code",
   "execution_count": 12,
   "id": "dfd9cdd3-ad54-4576-bcbf-e06063e15d22",
   "metadata": {},
   "outputs": [],
   "source": [
    "# Site base para pesquisa nos anos e com todos PDFs\n",
    "site = \"https://www.fab.mil.br/voos\""
   ]
  },
  {
   "cell_type": "code",
   "execution_count": null,
   "id": "e368d006-788c-49f4-a639-9921a181bc84",
   "metadata": {},
   "outputs": [],
   "source": []
  },
  {
   "cell_type": "code",
   "execution_count": 13,
   "id": "6f277af3-fc52-4151-b732-bd0c5c813b54",
   "metadata": {},
   "outputs": [],
   "source": [
    "# Função para pegar os links com href\n",
    "def find(elem):\n",
    "    element = elem.get_attribute(\"href\")\n",
    "    if element:\n",
    "        return element\n",
    "    else:\n",
    "        return False"
   ]
  },
  {
   "cell_type": "code",
   "execution_count": null,
   "id": "50768566-b497-47b2-937f-f9acf7ca4c2b",
   "metadata": {},
   "outputs": [],
   "source": []
  },
  {
   "cell_type": "code",
   "execution_count": 16,
   "id": "2153b112-79b0-496d-9368-701b3a110b5e",
   "metadata": {},
   "outputs": [],
   "source": [
    "# Abre o browser e o site\n",
    "# A conexão com esse site não é muito boa - tem dias que não funciona ou a página não termina de carregar\n",
    "# É preciso repetir a execução se não carregar de primeira\n",
    "driver = webdriver.Chrome('D:\\Code\\chromedriver.exe') \n",
    "\n",
    "driver.get(site)"
   ]
  },
  {
   "cell_type": "code",
   "execution_count": 17,
   "id": "14885df7-4955-461a-93af-ed86f0047b0f",
   "metadata": {},
   "outputs": [],
   "source": [
    "# Lista vazia\n",
    "documentos = []"
   ]
  },
  {
   "cell_type": "code",
   "execution_count": 18,
   "id": "b999e6de-7334-438a-8626-7c2c9b5bbcfb",
   "metadata": {},
   "outputs": [
    {
     "name": "stdout",
     "output_type": "stream",
     "text": [
      "1\n",
      "2\n",
      "3\n",
      "4\n",
      "5\n",
      "6\n",
      "7\n",
      "8\n",
      "9\n"
     ]
    }
   ],
   "source": [
    "# De 2013 a 2021 são 9 páginas no html\n",
    "for i in range(1, 10):\n",
    "    \n",
    "    print(i)\n",
    "    \n",
    "    elems = driver.find_elements_by_xpath(\"//a[@href]\")\n",
    "\n",
    "    # Itera nos elementos encontrados\n",
    "    for elem in elems:\n",
    "              \n",
    "        # Testa se existe um link disponível no href, esperando 1000000 segundos\n",
    "        try:\n",
    "            links = WebDriverWait(elem, 1000000).until(find)\n",
    "        \n",
    "            if links.startswith(\"https://www.fab.mil.br/cabine/\"):\n",
    "                #print(links)\n",
    "                dicionario = {\"link\": links}\n",
    "                documentos.append(dicionario)\n",
    "        \n",
    "        except:\n",
    "            continue\n",
    "\n",
    "    \n",
    "    i += 1\n",
    "    \n",
    "    # Se já estiver na última sai fora do loop\n",
    "    if i == 10:\n",
    "        driver.close()\n",
    "        break\n",
    "        \n",
    "    # Vai para próxima página\n",
    "    pagina = \"//*[@id='VoosForm_ano']/option[\" + str(i) + \"]\"\n",
    "    \n",
    "    # Clica para próxima página\n",
    "    element = WebDriverWait(driver, 2000).until(EC.element_to_be_clickable((By.XPATH, pagina)))\n",
    "    element.click()\n",
    "    time.sleep(10)\n",
    "    \n",
    "    # Clica em pesquisar\n",
    "    element = WebDriverWait(driver, 2000).until(EC.element_to_be_clickable((By.XPATH, \"//*[@id='yt0']\")))\n",
    "    element.click()\n",
    "    \n",
    "    time.sleep(10)"
   ]
  },
  {
   "cell_type": "code",
   "execution_count": 19,
   "id": "3fd85b9a-87cc-4bdb-9da8-f7391144c447",
   "metadata": {},
   "outputs": [],
   "source": [
    "# Gera dataframe com os os links de PDFs extraídos\n",
    "df = pd.DataFrame(documentos)"
   ]
  },
  {
   "cell_type": "code",
   "execution_count": 20,
   "id": "ef730161-dd5a-4ab5-8bcc-62c5407c1d9c",
   "metadata": {},
   "outputs": [
    {
     "name": "stdout",
     "output_type": "stream",
     "text": [
      "<class 'pandas.core.frame.DataFrame'>\n",
      "RangeIndex: 2019 entries, 0 to 2018\n",
      "Data columns (total 1 columns):\n",
      " #   Column  Non-Null Count  Dtype \n",
      "---  ------  --------------  ----- \n",
      " 0   link    2019 non-null   object\n",
      "dtypes: object(1)\n",
      "memory usage: 15.9+ KB\n"
     ]
    }
   ],
   "source": [
    "df.info()"
   ]
  },
  {
   "cell_type": "code",
   "execution_count": null,
   "id": "4a821337-6ef6-4582-894b-7f442fb179b7",
   "metadata": {},
   "outputs": [],
   "source": []
  },
  {
   "cell_type": "code",
   "execution_count": null,
   "id": "45f8e155-7d0e-4828-b145-ecfabee9c06c",
   "metadata": {},
   "outputs": [],
   "source": [
    "# Mostra diretório atual"
   ]
  },
  {
   "cell_type": "code",
   "execution_count": 21,
   "id": "caf9bbb7-0054-4362-a9a1-48cd27c0d47f",
   "metadata": {},
   "outputs": [
    {
     "name": "stdout",
     "output_type": "stream",
     "text": [
      "D:\\Code\\pinpoint\\repo\n"
     ]
    }
   ],
   "source": [
    "print(os.getcwd())"
   ]
  },
  {
   "cell_type": "code",
   "execution_count": 22,
   "id": "fcea4384-dc01-4a92-8af4-3e1bb880e575",
   "metadata": {},
   "outputs": [],
   "source": [
    "# Muda para diretório de download\n",
    "os.chdir('D:\\\\Code\\\\pinpoint\\\\repo\\\\resultados\\\\voos_fab')"
   ]
  },
  {
   "cell_type": "code",
   "execution_count": null,
   "id": "1aefd3e6-dbe9-4f4a-a19e-872585895c95",
   "metadata": {},
   "outputs": [],
   "source": []
  },
  {
   "cell_type": "code",
   "execution_count": null,
   "id": "69eda9e1-650a-40ad-8d99-9d0726a9fd4b",
   "metadata": {},
   "outputs": [],
   "source": [
    "# Faz o download dos PDFs\n",
    "[wget.download(x) for x in df['link']]"
   ]
  },
  {
   "cell_type": "code",
   "execution_count": null,
   "id": "9a92270d-bac7-473d-b1f1-0bbd467c7d34",
   "metadata": {},
   "outputs": [],
   "source": []
  },
  {
   "cell_type": "code",
   "execution_count": null,
   "id": "97ba8279-21a4-493d-99ae-5ce166853b9b",
   "metadata": {},
   "outputs": [],
   "source": [
    "# Caso apareça no dowload erro 404 pode fazer dessa forma\n",
    "# Abaixo um filtro apenas de novembro de 2021"
   ]
  },
  {
   "cell_type": "code",
   "execution_count": 26,
   "id": "0fd616e6-2640-4207-a427-af363a6dd847",
   "metadata": {},
   "outputs": [],
   "source": [
    "nov = df[df['link'].str.contains(\"202111\")].copy()"
   ]
  },
  {
   "cell_type": "code",
   "execution_count": 30,
   "id": "8b5e1761-0dee-46f5-9b6d-34301d2c731a",
   "metadata": {},
   "outputs": [
    {
     "name": "stdout",
     "output_type": "stream",
     "text": [
      "https://www.fab.mil.br/cabine/voos/20211103_181103.pdf\n",
      "100% [............................................................................] 418598 / 418598https://www.fab.mil.br/cabine/voos/20211105_111116.pdf\n",
      "100% [............................................................................] 125304 / 125304https://www.fab.mil.br/cabine/voos/20211105_111104.pdf\n",
      "100% [..............................................................................] 89934 / 89934https://www.fab.mil.br/cabine/voos/20211105_111128.pdf\n",
      "100% [............................................................................] 103822 / 103822https://www.fab.mil.br/cabine/voos/20211110_100820.pdf\n",
      "100% [............................................................................] 122953 / 122953https://www.fab.mil.br/cabine/voos/20211110_100836.pdf\n",
      "100% [............................................................................] 124506 / 124506https://www.fab.mil.br/cabine/voos/20211118_111902.pdf\n",
      "100% [............................................................................] 102509 / 102509https://www.fab.mil.br/cabine/voos/20211118_114420.pdf\n",
      "100% [............................................................................] 102442 / 102442https://www.fab.mil.br/cabine/voos/20211118_101510.pdf\n",
      "100% [............................................................................] 101736 / 101736https://www.fab.mil.br/cabine/voos/20211118_135541.pdf\n",
      "100% [............................................................................] 116263 / 116263https://www.fab.mil.br/cabine/voos/20211118_114501.pdf\n",
      "100% [............................................................................] 109197 / 109197https://www.fab.mil.br/cabine/voos/20211118_150723.pdf\n",
      "100% [..............................................................................] 43107 / 43107https://www.fab.mil.br/cabine/voos/20211119_133341.pdf\n",
      "100% [............................................................................] 415288 / 415288https://www.fab.mil.br/cabine/voos/20211123_141215.pdf\n",
      "Erro\n",
      "https://www.fab.mil.br/cabine/voos/20211123_141956.pdf\n",
      "Erro\n",
      "https://www.fab.mil.br/cabine/voos/20211124_145034.pdf\n",
      "Erro\n",
      "https://www.fab.mil.br/cabine/voos/20211126_142127.pdf\n",
      "Erro\n",
      "https://www.fab.mil.br/cabine/voos/20211126_144818.pdf\n",
      "Erro\n"
     ]
    }
   ],
   "source": [
    "for num, row in nov.iterrows():\n",
    "    link = row['link']\n",
    "    print(link)\n",
    "    try:\n",
    "        wget.download(link)\n",
    "    except:\n",
    "        print('Erro')\n",
    "        pass"
   ]
  },
  {
   "cell_type": "code",
   "execution_count": null,
   "id": "eda8cfae-c217-4f51-80f0-dbb35afb8094",
   "metadata": {},
   "outputs": [],
   "source": []
  }
 ],
 "metadata": {
  "kernelspec": {
   "display_name": "Python 3 (ipykernel)",
   "language": "python",
   "name": "python3"
  },
  "language_info": {
   "codemirror_mode": {
    "name": "ipython",
    "version": 3
   },
   "file_extension": ".py",
   "mimetype": "text/x-python",
   "name": "python",
   "nbconvert_exporter": "python",
   "pygments_lexer": "ipython3",
   "version": "3.9.5"
  }
 },
 "nbformat": 4,
 "nbformat_minor": 5
}
