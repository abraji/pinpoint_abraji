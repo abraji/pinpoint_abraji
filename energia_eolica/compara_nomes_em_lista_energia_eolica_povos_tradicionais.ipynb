{
  "nbformat": 4,
  "nbformat_minor": 0,
  "metadata": {
    "colab": {
      "provenance": []
    },
    "kernelspec": {
      "name": "python3",
      "display_name": "Python 3"
    },
    "language_info": {
      "name": "python"
    }
  },
  "cells": [
    {
      "cell_type": "code",
      "execution_count": null,
      "metadata": {
        "id": "akyOltboHJ7t"
      },
      "outputs": [],
      "source": [
        "# -*- coding: utf-8\n",
        "# Reinaldo Chaves (reinaldo@abraji.org.br)\n",
        "'''\n",
        "Para chegar aos processos de outorga de empreendimentos eólicos no Brasil, realizamos um cadastro\n",
        "no sistema de consulta processual da Aneel (https://antigo.aneel.gov.br/web/guest/processo-eletronico/-/asset_publisher/a8IsKhUJqQ2q/content/consulta-processual/654778?inheritRedirect=false&redirect=https%3A%2F%2Fantigo.aneel.gov.br%2Fweb%2Fguest%2Fprocesso-eletronico%3Fp_p_id%3D101_INSTANCE_a8IsKhUJqQ2q%26p_p_lifecycle%3D0%26p_p_state%3Dnormal%26p_p_mode%3Dview%26p_p_col_id%3Dcolumn-1%26p_p_col_count%3D1),\n",
        "que permite aos cidadãos acompanhar o trâmite dos processos administrativos ostensivos da agência. Em seguida, utilizamos a página de dados abertos (https://dadosabertos.aneel.gov.br/dataset/atos-de-outorgas-de-geracao)\n",
        "da entidade para obter o CSV que contém a lista com todos os documentos emitidos pela Aneel, referentes aos empreendimentos de geração de energia,\n",
        "a partir de 2015. Filtramos a tabela por SigTipoGeracao, selecionando “EOL - Central Geradora Eólica”, e DscFonteCombustivel, limitando a “cinética do vento”.\n",
        "A partir daí, utilizamos a Base de Informações sobre os Povos Indígenas e Quilombolas do Instituto Brasileiro de Geografia e Estatística (https://www.ibge.gov.br/geociencias/organizacao-do-territorio/tipologias-do-territorio/27480-base-de-informacoes-sobre-os-povos-indigenas-e-quilombolas.html?edicao=27481&t=acesso-ao-produto)\n",
        "para identificar os municípios onde há presença dessas duas populações e onde também há um parque eólico autorizado.\n",
        "Para tanto, foi feito o cruzamento pelo nome das cidades utilizando as colunas 'NomMunicipio', da base da Aneel, e 'NM_MUN', da base do IBGE.\n",
        "Para evitar duplicidade e falsos positivos, já que há cidades homônimas no país, os nomes dos municípios foram padronizados com retirada de acentos e uso de maiúsculas. Com isso,\n",
        "um script em Python foi usado para identificar a similaridade entre as duas listas de cidades.\n",
        "\n",
        "'''"
      ]
    },
    {
      "cell_type": "code",
      "source": [],
      "metadata": {
        "id": "CprZHiCflIVP"
      },
      "execution_count": null,
      "outputs": []
    },
    {
      "cell_type": "code",
      "source": [
        "!pip install unidecode"
      ],
      "metadata": {
        "colab": {
          "base_uri": "https://localhost:8080/"
        },
        "id": "I37-54ibOAMO",
        "outputId": "553965c8-7d03-4989-9228-dea2081532d8"
      },
      "execution_count": null,
      "outputs": [
        {
          "output_type": "stream",
          "name": "stdout",
          "text": [
            "Looking in indexes: https://pypi.org/simple, https://us-python.pkg.dev/colab-wheels/public/simple/\n",
            "Requirement already satisfied: unidecode in /usr/local/lib/python3.10/dist-packages (1.3.6)\n"
          ]
        }
      ]
    },
    {
      "cell_type": "code",
      "source": [
        "import pandas as pd\n",
        "import unidecode\n",
        "import math"
      ],
      "metadata": {
        "id": "bkKs4fufHTtz"
      },
      "execution_count": null,
      "outputs": []
    },
    {
      "cell_type": "code",
      "source": [
        "def f(str):\n",
        "    return (unidecode.unidecode(str))"
      ],
      "metadata": {
        "id": "q7-QdGB2N0eR"
      },
      "execution_count": null,
      "outputs": []
    },
    {
      "cell_type": "code",
      "source": [
        "from google.colab import drive\n",
        "drive.mount('/drive')"
      ],
      "metadata": {
        "colab": {
          "base_uri": "https://localhost:8080/"
        },
        "id": "Ojuz6SEEHUzi",
        "outputId": "0d5b8652-83c5-45dd-a11e-95fd2f042726"
      },
      "execution_count": null,
      "outputs": [
        {
          "output_type": "stream",
          "name": "stdout",
          "text": [
            "Mounted at /drive\n"
          ]
        }
      ]
    },
    {
      "cell_type": "code",
      "source": [],
      "metadata": {
        "id": "w1_gUVDhHU3z"
      },
      "execution_count": null,
      "outputs": []
    },
    {
      "cell_type": "code",
      "source": [
        "path = \"/drive/My Drive/Pinpoint/energia_eolica/atos-outorgas-aneel.xlsx\"\n",
        "atos = pd.read_excel(path, sheet_name = 'atos-outorgas-aneel', dtype = 'str')\n",
        "atos.info()"
      ],
      "metadata": {
        "colab": {
          "base_uri": "https://localhost:8080/"
        },
        "id": "qS09h6NCHech",
        "outputId": "510f6f67-c84b-464e-a9fe-23f585a05190"
      },
      "execution_count": null,
      "outputs": [
        {
          "output_type": "stream",
          "name": "stdout",
          "text": [
            "<class 'pandas.core.frame.DataFrame'>\n",
            "RangeIndex: 43797 entries, 0 to 43796\n",
            "Data columns (total 20 columns):\n",
            " #   Column                   Non-Null Count  Dtype \n",
            "---  ------                   --------------  ----- \n",
            " 0   DatGeracaoConjuntoDados  43797 non-null  object\n",
            " 1   DatPublicacao            43796 non-null  object\n",
            " 2   DscNumAto                43797 non-null  object\n",
            " 3   DscEmpreendimento        43797 non-null  object\n",
            " 4   CodCEG                   43768 non-null  object\n",
            " 5   IdeNucleoCEG             43791 non-null  object\n",
            " 6   SigTipoGeracao           43797 non-null  object\n",
            " 7   DscAssunto               29229 non-null  object\n",
            " 8   DscObjeto                43797 non-null  object\n",
            " 9   DscAmbiente              43797 non-null  object\n",
            " 10  DscTipoAto               43797 non-null  object\n",
            " 11  DscProcesso              43793 non-null  object\n",
            " 12  DscCombustivel           43797 non-null  object\n",
            " 13  MdaPotenciaInstaladaMW   42789 non-null  object\n",
            " 14  MdaAmpliacaoReducaoMW    42941 non-null  object\n",
            " 15  NomAgente                42730 non-null  object\n",
            " 16  NomMunicipio             42282 non-null  object\n",
            " 17  SigUF                    42465 non-null  object\n",
            " 18  SigRegimeExploracao      42233 non-null  object\n",
            " 19  DscRio                   3986 non-null   object\n",
            "dtypes: object(20)\n",
            "memory usage: 6.7+ MB\n"
          ]
        }
      ]
    },
    {
      "cell_type": "code",
      "source": [],
      "metadata": {
        "id": "8AWuiOj5IGir"
      },
      "execution_count": null,
      "outputs": []
    },
    {
      "cell_type": "code",
      "source": [
        "atos[\"DscCombustivel\"].unique()"
      ],
      "metadata": {
        "colab": {
          "base_uri": "https://localhost:8080/"
        },
        "id": "WsiZS46XIQC5",
        "outputId": "8d066d75-0823-4b63-c178-2440213e7fe8"
      },
      "execution_count": null,
      "outputs": [
        {
          "output_type": "execute_result",
          "data": {
            "text/plain": [
              "array(['hídrica', 'radiação solar', 'óleo diesel',\n",
              "       'bagaço de cana-de-açúcar', 'licor negro', 'não se aplica',\n",
              "       'carvão mineral', 'gás natural', 'calor de processo - cm',\n",
              "       'óleo combustível', 'gás de refinaria', 'resíduos florestais',\n",
              "       'outros energéticos de petróleo', 'gás de alto forno - cm',\n",
              "       'cavaco de madeira', 'lenha', 'carvão vegetal', 'biogás - agr',\n",
              "       'gás de alto forno - biomassa', 'capim elefante', 'urânio',\n",
              "       'cinética do vento', 'biogás - ru', 'casca de arroz',\n",
              "       'óleos vegetais', 'resíduos de madeira', 'calor de processo - of',\n",
              "       'biogás - floresta', 'calor de processo - gn',\n",
              "       'resíduos sólidos urbanos - ru', 'biodiesel', 'ute'], dtype=object)"
            ]
          },
          "metadata": {},
          "execution_count": 46
        }
      ]
    },
    {
      "cell_type": "code",
      "source": [],
      "metadata": {
        "id": "vLZs6dD6IWqB"
      },
      "execution_count": null,
      "outputs": []
    },
    {
      "cell_type": "code",
      "source": [
        "atos_vento = atos[(atos['DscCombustivel'] == 'cinética do vento')].copy()\n",
        "atos_vento.shape"
      ],
      "metadata": {
        "colab": {
          "base_uri": "https://localhost:8080/"
        },
        "id": "e7-fBgxUIYIh",
        "outputId": "e3d27313-ee1f-46c4-bec7-910cda6a8d09"
      },
      "execution_count": null,
      "outputs": [
        {
          "output_type": "execute_result",
          "data": {
            "text/plain": [
              "(16622, 20)"
            ]
          },
          "metadata": {},
          "execution_count": 47
        }
      ]
    },
    {
      "cell_type": "code",
      "source": [],
      "metadata": {
        "id": "_PsHn33PJN1o"
      },
      "execution_count": null,
      "outputs": []
    },
    {
      "cell_type": "code",
      "source": [
        "atos_vento[\"NomMunicipio\"].unique()"
      ],
      "metadata": {
        "colab": {
          "base_uri": "https://localhost:8080/"
        },
        "id": "D6cXeEyxJOGw",
        "outputId": "3dfbc8b0-9b72-4885-bec1-6fbc16a79a2b"
      },
      "execution_count": null,
      "outputs": [
        {
          "output_type": "execute_result",
          "data": {
            "text/plain": [
              "array(['Sento Sé', 'Aquiraz', 'São Gonçalo do Amarante',\n",
              "       'São Bento do Norte', 'Morro do Chapéu', 'Barreirinhas',\n",
              "       'Várzea Nova', 'Beberibe', 'Camocim', 'Amontada', 'Paracuru',\n",
              "       'São Francisco de Itabapoana', 'Acaraú', 'Aracati', 'Água Doce',\n",
              "       'Giruá', 'Mataraca', 'Alhandra', 'Osório', 'Itarema', 'Trairi',\n",
              "       'Guanambi', 'Igaporã', 'Caetité', 'Palmares do Sul',\n",
              "       'Areia Branca', 'Santana do Livramento',\n",
              "       'Caiçara do Norte, São Bento do Norte', 'Viamão',\n",
              "       'Caiçara do Nore', 'Parazinho', 'João Câmara', 'Pedra Grande',\n",
              "       'São Miguel do Gostoso', 'Tianguá', 'Ubajara', 'Lagoa Nova',\n",
              "       'Bodó', 'Parnaíba', 'Pedra Grande, São Bento do Norte',\n",
              "       'Paulino Neves', 'Tutóia', 'Santa Vitória do Palmar', 'Chuí',\n",
              "       'Tacaratu', 'Icapuí', 'ICAPUÍ', 'Touros', 'Caiçara do Norte',\n",
              "       'Tenente Laurentino Cruz', 'Ceará-Mirim', 'Tibau', 'Serra do Mel',\n",
              "       'Fortim', 'Jandaíra', 'Campo Formoso', 'Santana do Matos',\n",
              "       'RIO DO FOGO', 'Rio do Fogo', 'Rio do Forgo', 'Riacho de Santana',\n",
              "       'Cafarnaum', 'São Vicente', 'São Vicente, Tenente Laurentino Cruz',\n",
              "       'Tenente Laurentino Cruz / São Vicente',\n",
              "       'Tenente Laurentino Cruz, São Vicente', 'TENENTE LAURENTINO CRUZ',\n",
              "       'Florânia, Tenente Laurentino Cruz',\n",
              "       'Tenente Laurentino Cruz / Florânia',\n",
              "       'Tenente Laurentino Cruz, Florânia', 'Caldeirão Grande do Piauí',\n",
              "       'Caldeirão Grrande do Piauí', nan, 'Xangri-lá', 'Recife',\n",
              "       'Gentio do Ouro', 'Paranatama', 'Caetés', 'Pedra', 'Simões',\n",
              "       'Marcolândia', 'Licínio de Almeida', 'Itapipoca', 'Pindaí',\n",
              "       'Casa Nova', 'Rio Grande', 'Santa Vitória do Palmar, Chuí',\n",
              "       'Ibiapina', 'Maxaranguape', 'Pureza', 'Rio de Fogo',\n",
              "       'Jardim de Angicos', 'Jardins dos Angicos',\n",
              "       'São Mieguel do Gostoso',\n",
              "       'Caldeirão Grande do Piauí / Marcolândia', 'Ilha Grande',\n",
              "       'CALDEIRÃO GRANDE DO PIAUÍ', 'SENTO SÉ', 'Bonito',\n",
              "       'Mulungu do Morro', 'Araripina', 'Ararapina', 'ARACATI',\n",
              "       'Itaguaçu da Bahia', 'Santana dos Matos,  Tenente Laurentino Cruz',\n",
              "       'Santana do Matos / Tenente Laurentino Cruz',\n",
              "       'Santana do Matos, Tenente Laurentino Cruz',\n",
              "       'Tenente Laurentino Cruz, Santana do Matos', 'Poção', 'Macaparana',\n",
              "       'Venturosa', 'Pedra, Caetés', 'Caetés e Pedra',\n",
              "       'SÃO JOSÉ DO NORTE', 'São José do Norte',\n",
              "       'SANTA VITÓRIA DO PALMAR', 'JANDAÍRA', 'Dom Basílio',\n",
              "       'Brumado, Dom Basílio', 'Brumado', 'VENTUROSA', 'PESQUEIRA',\n",
              "       'IGAPORÃ', 'CAETITÉ', 'Caeté', 'Cerro Corá', 'CERRO CORÁ', 'Macau',\n",
              "       'MACAU', 'Santo Antônio da Patrulha', 'SANTO ANTÔNIO DA PATRULHA',\n",
              "       'Santana de Pirapama', 'Antônio da Patrulha', 'PARACURU',\n",
              "       'Araioses', 'ARAIOSES', 'JARDIM DE ANGICOS', 'Lavras do Sul',\n",
              "       'SÃO GABRIEL', 'São Gabriel', 'LAVRAS DO SUL',\n",
              "       'São Gabriel, Lavras do Sul', 'Lavras do Sul, São Gabriel',\n",
              "       'Tanque Novo', 'Tanque Novo e Caetité', 'TANQUE NOVO', 'Cascavel',\n",
              "       'TIANGUÁ', 'Tinguá', 'UBAJARA', 'Taipu', 'TAIPU', 'Caridade',\n",
              "       'CARIDADE', 'Pedro Avelino', 'PEDRO AVELINO',\n",
              "       'SÃO MIGUEL DO GOSTOSO', 'Campo Erê', 'CAMPO ERÊ',\n",
              "       \"SANT'ANA DO LIVRAMENTO\", \"Sant'Ana do Livramento\", 'Urandi',\n",
              "       'Lajes', 'LAJES', 'CAIÇARA DO RIO DO VENTO',\n",
              "       'Caiçara do Rio do Vento', 'BEBERIBE', 'TOUROS', 'Xique-Xique',\n",
              "       'Maracanaú', 'Curral Novo do Piauí', 'Missão Velha',\n",
              "       'MISSÃO VELHA', 'Porteiras', 'Crato', 'CRATO', 'TIBAU', 'POÇÃO',\n",
              "       'Grossos', 'GROSSOS', 'Triunfo', 'São Miguel do Gostodo',\n",
              "       'São Miguel do Gostoso, Touros', 'CAIÇARA DO NORTE',\n",
              "       'PALMARES DO SUL', 'GUANAMBI', 'Caculé', 'CACULÉ', 'PINDAÍ',\n",
              "       'Picuí', 'PICUÍ', 'Salitre', 'SALITRE', 'Paraipaba', 'PARAIPABA',\n",
              "       'MORRO DO CHAPÉU', 'Morro doChapéu', 'Morro do Chepéu', 'OSÓRIO',\n",
              "       'Osório, Santo antônio da Patrulha', 'Paraípaba', 'Afonso Bezerra',\n",
              "       'Saloá', 'SALOÁ', 'PARANATAMA', 'Lajes e Pedro Avelino',\n",
              "       'CAMPO FORMOSO', 'MULUNGU DO MORRO', 'Mulungo do Morro',\n",
              "       'SOUTO SOARES', 'Souto Soares', 'IRAQUARA', 'Iraquara',\n",
              "       'Iraquara / Souto Soares', 'Iraquara, Souto Soares', 'BONITO',\n",
              "       'BODÓ', 'Bodó, Carnaubais e Assú,',\n",
              "       'Bodó, Cerro Corá, Santana do Matos',\n",
              "       'Bodó, Serro Corá, Santa do Matos', 'Bodó e Cerro Corá',\n",
              "       'Bodó, Cerro Corá', 'Bodó, Santana do Matos',\n",
              "       'Bodó,  Cerro Corá, Santana do Matos', 'PEDRA GRANDE', 'Ibipina',\n",
              "       'Ibiapina, Ubajara', 'IBIAPINA', 'Tucano', 'TUCANO', 'Biritinga',\n",
              "       'BIRITINGA', 'Nova Soure', 'NOVA SOURE', 'ARACI', 'Araci',\n",
              "       'SÁTIRO DIAS', 'JOÃO CÂMARA', 'SÃO TOMÉ', 'São Tomé',\n",
              "       'Campo Formos', 'PENDÊNCIAS', 'Pendências', 'Barroquinha',\n",
              "       'BARROQUINHA', 'Dom Pedrito', 'DOM PEDRITO', 'CAFARNAUM',\n",
              "       'GENTIO DO OURO', 'LICÍNIO DE ALMEIDA',\n",
              "       'Gentio do Ouro e Xique-Xique', 'URANDI',\n",
              "       'Urandi e Licínio de Almeida', 'Lagoa do Barro',\n",
              "       'LAGOA DO BARRO DO PIAUÍ', 'Lagoa do Barro do Piauí',\n",
              "       'Queimada Nova', 'Limoeiro do Norte', 'SÃO BENTO DO NORTE',\n",
              "       'Piratini', 'Jaguarão', 'JAGUARÃO', 'Carnaubal', 'CARNAUBAL',\n",
              "       'QUEIMADA NOVA', 'Dom Inocêncio', 'Dom Iocêncio',\n",
              "       'Dom Inocêncio, Lagoa do Barro do Piauí',\n",
              "       'Dom Iocêncio,  Lagoa do Barro do Piauí', 'CURRAL NOVO DO PIAUÍ',\n",
              "       'Curral Novo do Piau', 'AREIA BRANCA', 'ILHA GRANDE',\n",
              "       'Pedro Avelino e Jandaíra', 'Várzea Nova, Morro do Chapéu',\n",
              "       'São Miguel do Gostoso e Touros', 'BAGÉ', 'Bagé',\n",
              "       'Santana do Matos e Tenente Laurentino Cruz', 'Santana do Mato',\n",
              "       'São José do Sabugi', 'São José do Sobugi', 'Santa Luzia',\n",
              "       'PAULINO NEVES', 'BARREIRINHAS', 'Barreirinhas e Paulino Neves',\n",
              "       'SERRA DO MEL', 'Pedro Avelino e Lajes', 'Pedro Avelino, Lajes',\n",
              "       'Luís Correia', 'LUÍS CORREIA',\n",
              "       'Santana do Matos, Lagoa Nova e São Vicente', 'SANTANA DO MATOS',\n",
              "       'São Vicente, Lagoa Nova e Santana do Matos',\n",
              "       'Santana do Matos, São Vicente e Lagoa Nova',\n",
              "       'Lagoa Nova, Santana do Matos, São Vicente', 'PARAZINHO',\n",
              "       'Pedras Altas', 'PEDRAS ALTAS',\n",
              "       'São Vicente, Tenente Laurentino Cruz e Santana do', 'SÃO VICENTE',\n",
              "       'Santana do Matos, São Vicente e Ternente Laurentin',\n",
              "       'Pinheiro Machado', 'PINHEIRO MACHADO', 'Sobradinho', 'SOBRADINHO',\n",
              "       'Laguna', 'LAGUNA', 'Tubarão', 'TUBARÃO', 'ACARAÚ',\n",
              "       'Currais Novos e São Vicente', 'CURRAIS NOVOS', 'Currais Novos',\n",
              "       'São Vicente, Currais Novos', 'Currais Novos, São Vicente',\n",
              "       'São Vicente e Currais Novos', 'Currais Novos / São Vicente',\n",
              "       'Serra de São Bento', 'SERRA DE SÃO BENTO', 'PEDRA PRETA',\n",
              "       'Jandaíra, Lajes', 'Pedra Preta', 'Bom Conselho', 'BOM CONSELHO',\n",
              "       'Umburanas', 'UMBURANAS', 'Sentó Sé', 'Sento Sé, Umburanas',\n",
              "       'Sento Sé, Umburabas', 'SANTA LUZIA',\n",
              "       'Santa Luzia, Areia de Baraúnas',\n",
              "       'Santa Luzia / Areia de Baraúnas', 'XIQUE-XIQUE',\n",
              "       'ITAGUAÇU DA BAHIA', 'Itaguaçu', 'Xique-Xique, Itaguaçu da Bahia',\n",
              "       'Palmas', 'Jacobina', 'JACOBINA', 'VÁRZEA NOVA', 'Ourolândia',\n",
              "       'OUROLÂNDIA', 'VIAMÃO', 'Mulungu do Morro / Souto Soares',\n",
              "       'Mulugum do Morro, Souto Sores', 'CASA NOVA', 'Santa Marta',\n",
              "       'ITAREMA', 'Viçosa do Ceará', 'VIÇOSA DO CEARÁ', 'Jnadaíra',\n",
              "       'Paulistana', 'PAULISTANA', 'AFONSO BEZERRA', 'ANGICOS', 'Angicos',\n",
              "       'ENCRUZILHADA DO SUL', 'ARARUNA', 'Araruna', 'Araruna e Riachão',\n",
              "       'Araruna, Riachão', 'CUITÉ', 'SANTA MARGARIDA DO SUL',\n",
              "       'Santa Margarida do Sul', 'Vila Nova do Sul', 'VILA NOVA DO SUL',\n",
              "       'Lajes, São Tomé', 'lajes', 'JUNCO DO SERIDÓ', 'Junco do Seridó',\n",
              "       'Junco do Seridó e Santa Luzia', 'AREIA DE BARAÚNAS',\n",
              "       'Areia de Baraúnas', 'Santa Luzia, Areia de Baraúnas e São Mamede',\n",
              "       'SÃO MAMEDE', 'São Mamede', 'OURICURI', 'Ouricuri',\n",
              "       'Araripina eOuricuri', 'Ouricuri / Araripina',\n",
              "       'Araripina, Ouricuri', 'BETÂNIA DO PIAUÍ', 'Betânia do Piauí',\n",
              "       'TEIXEIRA', 'São José dos Ausentes', 'Carambeí',\n",
              "       'Carambeí, Castro e Tibagi', 'CARAMBEÍ', 'CASTRO', 'Castro',\n",
              "       'TIBAGI', 'Tibagi', 'Gouveia', 'GOUVEIA', 'Marmeleiro',\n",
              "       'MARMELEIRO', 'Bom Jesus da Lapa', 'Salgado de São Felix',\n",
              "       'SALGADO DE SÃO FÉLIX', 'Salgado de São Félix', 'MACAPARANA',\n",
              "       'MACAPARANÃ', 'Natuba', 'NATUBA', 'Macaparana, São Vicente Ferrer',\n",
              "       'SÃO VICENTE FERRER', 'São Vicente Ferrer', 'CACIMBA DE DENTRO',\n",
              "       'Cacimba de Dentro', 'Araruna e Cacimba de Dentro',\n",
              "       'Araruna, Cacimba de Dentro', \"S.A.NT'ANA DO LIVRAMENTO\",\n",
              "       'FRANCISCO SÁ', 'Francisco Sá', 'Francisco de Sá',\n",
              "       'CLARO DOS POÇÕES', 'TAPES', 'Tapes', 'CHUÍ', 'PASSAGEM',\n",
              "       'Passagem', 'CACIMBA DE AREIA', 'Cacimba de Areia', 'IPUEIRAS',\n",
              "       'IPAPORANGA', 'Poranga', 'PORANGA', 'Ipueiras',\n",
              "       'BROTAS DE MACAÚBAS', 'RIACHÃO DO DANTAS', 'Riachão do Dantas',\n",
              "       'SIMÃO DIAS', 'Simão Dias', 'TOBIAS BARRETO', 'Tobias Barreto',\n",
              "       'Urandi, Licínio de Almeida e Jacaraci',\n",
              "       'Licínio de Almeida, Urandi', 'Urandi, Licínio de Almeida',\n",
              "       'Urandi e Jacaraci', 'Jacaraci, Urandi', 'TUTÓIA', 'Acarati',\n",
              "       'Baraúna', 'Bodó, Santana dos Matos', 'Bodó / Santanado Matos',\n",
              "       'Bodó e Santana dos Matos', 'Bodó / Santana do Matos',\n",
              "       'Fernando Pedroza', 'Fernando Pedroza e Santana dos Matos',\n",
              "       'Santana do Matos / Fernando Pedroza',\n",
              "       'Santana do Matos, Fernando Pedroza', 'TRAIRI',\n",
              "       'Santana dos Matos', 'Brasileira, São João da Fronteira',\n",
              "       'Rosário do Sul e Santana do Livramento', 'Rosário do Sul',\n",
              "       'Tacaimbó', 'Lagoa Nova, Santana do Matos',\n",
              "       'Lagoa Nova, Santana dos Matos', 'SÃO JOSÉ DO SABUGI',\n",
              "       'Santa Luzia, São José do Sabugi', 'SÃO GONÇALO DO AMARANTE',\n",
              "       'Cacimba de Dentro, Cutié e Damião',\n",
              "       'Araruna, Cacimba de Dentro, Cuité',\n",
              "       'Araruna e Cacimba de Dentro e Cutié', 'Ipaporanga', 'JUAZEIRO',\n",
              "       'Juazeiro', 'Campo Formoso e Juazeiro', 'GALINHOS', 'Galinhos',\n",
              "       'Sento Sé, Campo Formoso', 'FLORÂNIA',\n",
              "       'Florânia, Santana dos Matos e Tenente Laurentino C',\n",
              "       'Santana do Matos / Fernando Pedroza / Florânia',\n",
              "       'Santana do Matos, Tenente Laurentino Cruz, Florâni', 'LAGOA NOVA',\n",
              "       'Currais Novos, São Vicente, Lagoa Nova',\n",
              "       'Carnaubal, Guaraciaba do Norte',\n",
              "       'Carnaubal / Guaraciaba do Norte', 'Guaraciaba do Norte',\n",
              "       'Souto Soares e Mulungu do Morro', 'UIBAÍ', 'Uibaí', 'IBIPEBA',\n",
              "       'Ibipeba', 'IPUPIARA', 'Ipupiara', 'Brotas de Macaúbas',\n",
              "       'DOM INOCÊNCIO', 'SIMÕES', 'Mococa', 'Bento Fernandes',\n",
              "       'BENTO FERNANDES', 'Caiçara do Rio do Vento / Ruy Barbosa',\n",
              "       'Riachuelo', 'RIACHUELO', 'Ruy Barbosa', 'RUY BARBOSA',\n",
              "       'RUY BARBOS.A.', 'Bento Fernandes, Riachuelo', 'VIÇOS.A. DO CEARÁ',\n",
              "       'EXTREMOZ', 'Extremoz', 'CEARÁ-MIRIM', 'BARAÚNA', 'TENÓRIO',\n",
              "       'Tenório', 'Junco do Seridó, Tenório', 'Santo Antônio do Retiro',\n",
              "       'Sento Sé e de Campo Formoso', 'Quaraí', 'Caiçara do rio do vento',\n",
              "       'Lajes, Caiçara do Rio Vento', 'Lajes e Caiçara do Rio do Vento',\n",
              "       'Urandi, Jacaraci', 'PUREZA', 'VENTUROS.A.',\n",
              "       'Alagoinha e Venturosa', 'Alagoinha', 'ALAGOINHA',\n",
              "       'Santo Antônio daPatrulha', 'Osório e Santo Antônio da Patrulha',\n",
              "       'Osório, Santo Antônio da Patrulha',\n",
              "       'Cerro Corá, Currais Novos e São Tomé',\n",
              "       'Currais Novos / São Tomé / Cerro Corá',\n",
              "       'Currais Novos, São Tomé, Cerro Corá',\n",
              "       'Currais Novo, São Tomé, Cerro Corá', 'Cerro Corá e Currais',\n",
              "       'Currais Novos / Cerro Corá', 'Cerro Corá, Currais Novos',\n",
              "       'Currais Novo, Cerro Corá', 'Currais Novos , Lagoa Nova',\n",
              "       'Cerro Corá e São Tomé', 'São Tomé / Cerro Corá',\n",
              "       'Cerro Corá, São Tomé', 'Santana do Matos / FernandoPedroza',\n",
              "       'CANUDOS', 'Canudos', 'EUCLIDES DA CUNHA', 'Euclides da Cunha',\n",
              "       'PARELHAS', 'Parelhas', 'Parelhos', 'Equador', 'AREIAL',\n",
              "       'Pocinhos', 'Areial', 'POCINHOS', 'ESPERANÇA', 'Esperança',\n",
              "       'Santana de Pirapama/ Conceição do Mato Dentro', 'Mirangaba',\n",
              "       'Mirangaba, Jacobina', 'Uruguaiana', 'Dom Feliciano',\n",
              "       'Parnaíba e IlhaGrande', 'Parnaíba / Ilha Grande',\n",
              "       'Ibipeba, Barra dos Mendes', 'Barra do Mendes', 'Barra dos Mendes',\n",
              "       'Remanso', 'Remanso-BA / DomInocêncio-PI', 'Antônio Gonçalves',\n",
              "       'Campo Formoso / Antônio Gonçalves', 'São José do Campestre',\n",
              "       'Angicos e Pedro Avelino', 'Angicos / Pedro Avelino',\n",
              "       'Angicos, Pedro Avelino', 'Lajes, Fernando Pedroza',\n",
              "       'Angicos e Lages', 'Angicos / Lajes', 'Angicos, Lajes',\n",
              "       'Angicos / Lajes / Fernando Pedroza',\n",
              "       'Angicos, Fernando Pedroza, Lajes', 'Angicos, Fernando Pedroza',\n",
              "       'Lajes, Santana do Matos, Fernando Pedroza', 'Urucuia',\n",
              "       'Curral Novo doPiauí', 'Curral Novodo Piauí',\n",
              "       'Betânia do Piauí ePaulistana', 'Betânia do Piauí / Paulistana',\n",
              "       'Betânia do Piauí, Paulistana',\n",
              "       'Betânia do Piauí eCurral Novo doPiaui',\n",
              "       'Betânia do Piauí / Curral Novo do Piauí',\n",
              "       'Betânia do Piauí, Curral Novo do Piauí', 'Betânia doPiauí',\n",
              "       'Betânia do Piauí eCurral Novo doPiauí', 'Pedra Lavrada',\n",
              "       'Umburamas', 'Umburanas, Sento Sé', 'Ourolândia, Umburanas',\n",
              "       'Paracatu', 'Pedra Lavada', 'Nova Palmeira',\n",
              "       'Picuí e Nova Palmeira', 'Picuí, Nova Palmeira',\n",
              "       'Picuí e Nova Carnaúba dos Dantas', 'Picuí, Carnaúba dos Dantas',\n",
              "       'Nova Palmeira/PB e Parrelhas e Carnaúba dos Dantas',\n",
              "       'Nova Palmeira/PB, Parelhas, Carnaúba dos Dantas/RN',\n",
              "       'Carnaúba dos Dantas', 'Picuí e Carnaúba dos Dantas',\n",
              "       'Saloá,  Paranatama', 'Ibitiara', 'Pedra Preta, Lajes',\n",
              "       'Novo Horizonte', 'Mirangaba /Saúde', 'Pcuí', 'Campo Redondo',\n",
              "       'Currais Novos/ Picuí', 'Currais Novos/Campo Redondo/Picuí',\n",
              "       'Currais Novos/São Tomé', 'Pedra Lavrada, Nova Palmeira',\n",
              "       'Pedra Lavrada, Parelhas', 'Frei Martinho, Picuí', 'Frei Martinho',\n",
              "       'Carbaúba dos Dantas, Frei Martinho', 'Miguel Calmon',\n",
              "       'Campo Formoso / Mirangaba', 'Pedra Petra / Lajes',\n",
              "       'Campo Formoso e Sento Sé', 'Campo Formoso, Sento Sé',\n",
              "       'Acari / Carnaúba dos Dantas', 'Acari', 'Rodelas', 'Macururé',\n",
              "       'Macururé e Rodelas', 'Rodelas e Jeremoabo', 'Jeremoabo',\n",
              "       'Afrânio', 'Acauã, Queimada Nova, Afrânio', 'Acauã',\n",
              "       'Queimada Nova, Afrânio', 'Jardim dos Angicos', 'Rio de Contas',\n",
              "       'Pesqueira', 'Ibicoara', 'Jussiape', 'Ituaçu',\n",
              "       'Queimada Nova / Afrânio', 'Xique-Xique, Gentio do Ouro',\n",
              "       'Monte Azul', 'Espinosa', 'Mato Verde', 'Ibipeba, Uibaí',\n",
              "       'Sertânia / Arcoverde', 'São Benedito', 'Amontada, Itapipoca',\n",
              "       'Irauçuba', 'Paripiranga', 'Adustina',\n",
              "       'Salgadinho e Junco do Seridó', 'Boninal', 'Monte das Gameleiras',\n",
              "       'Monte das Gameleiras, São José do Campestre, Serra',\n",
              "       'São José do Campestre, Serra de São Bento',\n",
              "       'Canudos / Euclides da Cunha', 'Canudos / Jeremoabo',\n",
              "       'Quaraí, Uruguaiana', 'Uruguaiana, Alegrete', 'Quaraí, Alegrete',\n",
              "       'Alegrete', 'Curaçá', 'Rodelas e Glória', 'Glória', 'Mucugê',\n",
              "       'Mucugê, Ibicoara', 'Barra da Estiva', 'Buritirama', 'Poço Branco',\n",
              "       'Tianguá, Viçosa do Ceará', 'Sítio Novo', 'Barcelona, Sítio Novo',\n",
              "       'Barcelona', 'Santa Luzia e São Mamede',\n",
              "       'Passagem, São Mamede e Quixabá',\n",
              "       'Passagem, São Mamede e Areia de Baraúnas', 'Campo Formoo',\n",
              "       'Tacaratu, Inajá', 'Tacaratu, inajá', 'Inajá',\n",
              "       'Canudos, Euclides da Cunha', 'Jeremoabo, Canudos',\n",
              "       'Bagé, Dom Pedrito', 'São Vicente do Seridó',\n",
              "       'Francisco Sá, Juramento', 'Juramento', 'Cacimbas',\n",
              "       'Taperoá, Salgadinho', 'Salgadinho', 'Taperoá',\n",
              "       'Parelhas, Equador', 'Carnaúba dos Dantas, Parelhas', 'Damião',\n",
              "       'Viçosa do Ceará, Granja',\n",
              "       'Osório, Tramandaí, Cidreira, Capivari do Sul',\n",
              "       'Capivari do Sul, Cidreira, Osório', 'Pio IX', 'Baraúna, Picuí',\n",
              "       'Picuí, Baraúna', 'Calmon', 'Urubici', 'Lençóis',\n",
              "       'São Francisco de Paula', 'Cidreira, Tramandaí', 'Cidreira',\n",
              "       'Jaquirana, São Francisco de Paula', 'São João do Piauí'],\n",
              "      dtype=object)"
            ]
          },
          "metadata": {},
          "execution_count": 48
        }
      ]
    },
    {
      "cell_type": "code",
      "source": [],
      "metadata": {
        "id": "wFbhfX7eJFZL"
      },
      "execution_count": null,
      "outputs": []
    },
    {
      "cell_type": "code",
      "source": [
        "path = \"/drive/My Drive/Pinpoint/energia_eolica/atos-outorgas-aneel.xlsx\"\n",
        "pop_originarios = pd.read_excel(path, sheet_name = 'municípios indígenas e quilombo', dtype = 'str')\n",
        "pop_originarios.info()"
      ],
      "metadata": {
        "colab": {
          "base_uri": "https://localhost:8080/"
        },
        "id": "YClZIPTnLeUB",
        "outputId": "cc9f25b4-3c62-4e99-db2d-7e4b50a69a72"
      },
      "execution_count": null,
      "outputs": [
        {
          "output_type": "stream",
          "name": "stdout",
          "text": [
            "<class 'pandas.core.frame.DataFrame'>\n",
            "RangeIndex: 2195 entries, 0 to 2194\n",
            "Data columns (total 3 columns):\n",
            " #   Column  Non-Null Count  Dtype \n",
            "---  ------  --------------  ----- \n",
            " 0   NM_MUN  2195 non-null   object\n",
            " 1   NM_UF   2195 non-null   object\n",
            " 2   CD_MUN  2195 non-null   object\n",
            "dtypes: object(3)\n",
            "memory usage: 51.6+ KB\n"
          ]
        }
      ]
    },
    {
      "cell_type": "code",
      "source": [
        "pop_originarios['NM_MUN'] = pop_originarios['NM_MUN'].str.strip()\n",
        "pop_originarios['NM_MUN'] = pop_originarios['NM_MUN'].str.upper()\n",
        "pop_originarios['NM_MUN'] = pop_originarios['NM_MUN'].apply(f)"
      ],
      "metadata": {
        "id": "0McvfxU2RmBG"
      },
      "execution_count": null,
      "outputs": []
    },
    {
      "cell_type": "code",
      "source": [
        "a = pop_originarios['NM_MUN'].unique()\n",
        "a_tolist = a.tolist()"
      ],
      "metadata": {
        "id": "RtpgsGDgepiT"
      },
      "execution_count": null,
      "outputs": []
    },
    {
      "cell_type": "code",
      "source": [],
      "metadata": {
        "id": "iPdWeebLLe0I"
      },
      "execution_count": null,
      "outputs": []
    },
    {
      "cell_type": "code",
      "source": [
        "encontrados = []\n",
        "\n",
        "for num, row in atos_vento.iterrows():\n",
        "  cidades = row['NomMunicipio']\n",
        "  if cidades == '' or (isinstance(cidades, float) and  math.isnan(cidades)):\n",
        "    cidades_separadas = []\n",
        "  else:\n",
        "    cidades_separadas = cidades.split(\"/\")\n",
        "\n",
        "  DatGeracaoConjuntoDados = row['DatGeracaoConjuntoDados']\n",
        "  DatPublicacao = row['DatPublicacao']\n",
        "  DscNumAto = row['DscNumAto']\n",
        "  DscEmpreendimento = row['DscEmpreendimento']\n",
        "  CodCEG = row['CodCEG']\n",
        "  IdeNucleoCEG = row['IdeNucleoCEG']\n",
        "  SigTipoGeracao = row['SigTipoGeracao']\n",
        "  DscAssunto = row['DscAssunto']\n",
        "  DscObjeto = row['DscObjeto']\n",
        "  DscAmbiente = row['DscAmbiente']\n",
        "  DscTipoAto = row['DscTipoAto']\n",
        "  DscProcesso = row['DscProcesso']\n",
        "  DscCombustivel = row['DscCombustivel']\n",
        "  MdaPotenciaInstaladaMW = row['MdaPotenciaInstaladaMW']\n",
        "  MdaAmpliacaoReducaoMW = row['MdaAmpliacaoReducaoMW']\n",
        "  NomAgente = row['NomAgente']\n",
        "  NomMunicipio = row['NomMunicipio']\n",
        "  SigUF = row['SigUF']\n",
        "  SigRegimeExploracao = row['SigRegimeExploracao']\n",
        "  DscRio = row['DscRio']\n",
        "\n",
        "  for i in range(len(cidades_separadas)):\n",
        "    cidades_separadas[i] = cidades_separadas[i].upper().strip()\n",
        "    cidades_separadas[i] = unidecode.unidecode(cidades_separadas[i])\n",
        "\n",
        "\n",
        "  similar = \"NÃO\"\n",
        "  for vez in cidades_separadas:\n",
        "    if vez in a_tolist:\n",
        "      similar = \"SIM\"\n",
        "\n",
        "  dicionario = {'DatGeracaoConjuntoDados': DatGeracaoConjuntoDados,\n",
        "                'DatPublicacao': DatPublicacao,\n",
        "                'DscNumAto': DscNumAto,\n",
        "                'DscEmpreendimento': DscEmpreendimento,\n",
        "                'CodCEG': CodCEG,\n",
        "                'IdeNucleoCEG': IdeNucleoCEG,\n",
        "                'SigTipoGeracao': SigTipoGeracao,\n",
        "                'DscAssunto': DscAssunto,\n",
        "                'DscObjeto': DscObjeto,\n",
        "                'DscAmbiente': DscAmbiente,\n",
        "                'DscTipoAto': DscTipoAto,\n",
        "                'DscProcesso': DscProcesso,\n",
        "                'DscCombustivel': DscCombustivel,\n",
        "                'MdaPotenciaInstaladaMW': MdaPotenciaInstaladaMW,\n",
        "                'MdaAmpliacaoReducaoMW': MdaAmpliacaoReducaoMW,\n",
        "                'NomAgente': NomAgente,\n",
        "                'NomMunicipio': NomMunicipio,\n",
        "                'SigUF': SigUF,\n",
        "                'SigRegimeExploracao': SigRegimeExploracao,\n",
        "                'DscRio': DscRio,\n",
        "                'lista_municipios': cidades_separadas,\n",
        "                'similar_com_povos_originarios': similar}\n",
        "  encontrados.append(dicionario)"
      ],
      "metadata": {
        "id": "fquGywKuJFc5"
      },
      "execution_count": null,
      "outputs": []
    },
    {
      "cell_type": "code",
      "source": [
        "len(encontrados)"
      ],
      "metadata": {
        "colab": {
          "base_uri": "https://localhost:8080/"
        },
        "id": "yYbF5-YbkPCo",
        "outputId": "dcc1483f-3441-41e5-82fc-bd3531bb2096"
      },
      "execution_count": null,
      "outputs": [
        {
          "output_type": "execute_result",
          "data": {
            "text/plain": [
              "16622"
            ]
          },
          "metadata": {},
          "execution_count": 58
        }
      ]
    },
    {
      "cell_type": "code",
      "source": [
        "df_encontrados = pd.DataFrame(encontrados)"
      ],
      "metadata": {
        "id": "dngtovR8kaWo"
      },
      "execution_count": null,
      "outputs": []
    },
    {
      "cell_type": "code",
      "source": [
        "df_encontrados.to_excel('/drive/My Drive/Pinpoint/energia_eolica/atos-outorgas-aneel_comparados_com_indigenas_quilombolas.xlsx',sheet_name='Sheet1',index=False)"
      ],
      "metadata": {
        "id": "7cxjKhL-kqPU"
      },
      "execution_count": null,
      "outputs": []
    },
    {
      "cell_type": "code",
      "source": [],
      "metadata": {
        "id": "KNkSXJakomCB"
      },
      "execution_count": null,
      "outputs": []
    }
  ]
}
