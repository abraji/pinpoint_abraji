{
 "cells": [
  {
   "cell_type": "code",
   "execution_count": null,
   "id": "9b9ddccf-727d-45ee-b999-466c958c5f5c",
   "metadata": {},
   "outputs": [],
   "source": [
    "# -*- coding: utf-8\n",
    "# Reinaldo Chaves (@paidatocandeira)\n",
    "# Coleta Prestação de Contas e Demonstrativos dos partidos referentes a 2020\n",
    "# Site com os números de processos de cada partido - https://www.tse.jus.br/partidos/contas-partidarias/prestacao-de-contas/integra-da-prestacao-de-contas-e-demonstrativos-dos-partidos-referentes-a-2020\n",
    "# Site com os respectivos documentos - https://pje.tse.jus.br/pje/ConsultaPublica/listView.seam\n",
    "# Este site cai muito a conexão - é melhor fazer o webscraping durante a noite \n",
    "#"
   ]
  },
  {
   "cell_type": "code",
   "execution_count": null,
   "id": "c58767fd-9827-48f1-929c-9a137510cf44",
   "metadata": {},
   "outputs": [],
   "source": []
  },
  {
   "cell_type": "code",
   "execution_count": 1,
   "id": "d88d6252-a752-4c7e-b369-3e830dc510e4",
   "metadata": {},
   "outputs": [],
   "source": [
    "from selenium import webdriver\n",
    "from selenium.webdriver.common.keys import Keys\n",
    "from selenium.webdriver.support.ui import WebDriverWait\n",
    "from selenium.webdriver.support import expected_conditions as EC\n",
    "from selenium.webdriver.common.by import By\n",
    "from selenium.webdriver.support.ui import Select\n",
    "import time\n",
    "import os\n",
    "import requests"
   ]
  },
  {
   "cell_type": "code",
   "execution_count": null,
   "id": "5e5c03ea-352f-418a-818e-8ec2d6beda91",
   "metadata": {},
   "outputs": [],
   "source": []
  },
  {
   "cell_type": "code",
   "execution_count": 2,
   "id": "9f52237a-b727-477d-aa8b-8ed73e6eeea8",
   "metadata": {},
   "outputs": [],
   "source": [
    "# Mostra o diretório atual"
   ]
  },
  {
   "cell_type": "code",
   "execution_count": 3,
   "id": "853b0383-4352-42fe-bc6a-308409caa368",
   "metadata": {},
   "outputs": [
    {
     "name": "stdout",
     "output_type": "stream",
     "text": [
      "D:\\Code\\pinpoint\\repo\n"
     ]
    }
   ],
   "source": [
    "print(os.getcwd())"
   ]
  },
  {
   "cell_type": "code",
   "execution_count": 4,
   "id": "38c79cdd-fbe8-4a45-84a3-de9e7a04708e",
   "metadata": {},
   "outputs": [],
   "source": [
    "# Muda para o diretório que vai salvar os arquivos"
   ]
  },
  {
   "cell_type": "code",
   "execution_count": 5,
   "id": "b53ae96c-2748-4f13-b3a5-8f3708d302c5",
   "metadata": {},
   "outputs": [],
   "source": [
    "os.chdir('D:\\\\Code\\\\pinpoint\\\\repo\\\\resultados\\\\contas_partidarias\\\\pl')"
   ]
  },
  {
   "cell_type": "code",
   "execution_count": null,
   "id": "bfc14293-a60d-433e-aaf6-fcce111ed66a",
   "metadata": {},
   "outputs": [],
   "source": []
  },
  {
   "cell_type": "code",
   "execution_count": 6,
   "id": "8ec574fc-422b-4d47-8667-62cee1843bde",
   "metadata": {},
   "outputs": [],
   "source": [
    "# No site https://www.tse.jus.br/partidos/contas-partidarias/prestacao-de-contas/contas-anuais/prestacao-de-contas-partidarias\n",
    "# você precisa pegar o N°PROCESSO (PJe)\n",
    "# E fazer uma consulta manual no https://pje.tse.jus.br/pje/ConsultaPublica/listView.seam\n",
    "# Vai gerar uma URL aleatória dos processos que dura algmas dezenas de minutos\n",
    "# É essa URL que uso no programa\n",
    "# Abaixo um exemplo de raspagem de arquivos do PL"
   ]
  },
  {
   "cell_type": "code",
   "execution_count": null,
   "id": "2e5e25c1-80a4-4113-bfa8-40eb34397139",
   "metadata": {},
   "outputs": [],
   "source": []
  },
  {
   "cell_type": "code",
   "execution_count": 7,
   "id": "195ef999-3506-4a4a-8143-971f2ffa9c29",
   "metadata": {},
   "outputs": [],
   "source": [
    "# Site aleatório gerado\n",
    "site = 'https://pje.tse.jus.br/pje/ConsultaPublica/DetalheProcessoConsultaPublica/listView.seam?ca=c23b3e8850135ba3fe0f38398dd9414d744dd4693a173e26'"
   ]
  },
  {
   "cell_type": "code",
   "execution_count": 8,
   "id": "659e7b6d-ca54-4a61-ba54-5db52e290d23",
   "metadata": {},
   "outputs": [],
   "source": [
    "# Contador para numerar sequencialmente os arquivos\n",
    "conta = 0"
   ]
  },
  {
   "cell_type": "code",
   "execution_count": null,
   "id": "38e0e93c-99eb-402b-b89d-ba4a20155bf4",
   "metadata": {},
   "outputs": [],
   "source": []
  },
  {
   "cell_type": "code",
   "execution_count": 9,
   "id": "4891a366-10f9-4900-8b26-e2439374f081",
   "metadata": {},
   "outputs": [],
   "source": [
    "# Chama o driver do Chrome e abre o site"
   ]
  },
  {
   "cell_type": "code",
   "execution_count": 10,
   "id": "5f205ebf-4ea3-4e14-bac0-20c3f40c4dcd",
   "metadata": {},
   "outputs": [],
   "source": [
    "driver = webdriver.Chrome('D:\\Code\\chromedriver.exe') \n",
    "\n",
    "driver.get(site)"
   ]
  },
  {
   "cell_type": "code",
   "execution_count": null,
   "id": "ebd04d98-8035-4f34-ba43-02136857752c",
   "metadata": {},
   "outputs": [],
   "source": []
  },
  {
   "cell_type": "code",
   "execution_count": 11,
   "id": "82a72743-6678-48ed-bdf7-e2c04769b5a0",
   "metadata": {},
   "outputs": [],
   "source": [
    "# Calcula quantas páginas existem com documentos"
   ]
  },
  {
   "cell_type": "code",
   "execution_count": 12,
   "id": "a3340e91-f838-4e5b-a27f-3ba3d4ddc411",
   "metadata": {},
   "outputs": [
    {
     "name": "stdout",
     "output_type": "stream",
     "text": [
      "2\n"
     ]
    }
   ],
   "source": [
    "paginas = int(driver.find_element(By.XPATH, \"//*[@id='j_id130:j_id619:j_id620']/tbody/tr[1]/td[3]\").text)\n",
    "print(paginas)"
   ]
  },
  {
   "cell_type": "code",
   "execution_count": null,
   "id": "906b3f6a-8a91-4eb9-8f80-90a2e3534bc8",
   "metadata": {},
   "outputs": [],
   "source": []
  },
  {
   "cell_type": "code",
   "execution_count": 13,
   "id": "263b1aec-8cb3-4a30-adb6-e013637e2330",
   "metadata": {},
   "outputs": [],
   "source": [
    "# Função para pegar o link do PDF, se existir"
   ]
  },
  {
   "cell_type": "code",
   "execution_count": 14,
   "id": "f40ac354-fe42-4de5-b93c-05bb9bc44509",
   "metadata": {},
   "outputs": [],
   "source": [
    "def find(elem):\n",
    "    element = elem.get_attribute(\"href\")\n",
    "    if element:\n",
    "        return element\n",
    "    else:\n",
    "        return False"
   ]
  },
  {
   "cell_type": "code",
   "execution_count": null,
   "id": "15486fbe-19a8-4dc2-9d9f-535686d5b621",
   "metadata": {},
   "outputs": [],
   "source": []
  },
  {
   "cell_type": "code",
   "execution_count": 15,
   "id": "c8a18395-8093-4852-8487-3df2dd27a021",
   "metadata": {},
   "outputs": [
    {
     "name": "stdout",
     "output_type": "stream",
     "text": [
      "0\n",
      "https://pje.tse.jus.br/pje/ConsultaPublica/DetalheProcessoConsultaPublica/listView.seam;jsessionid=e-9JLU1SrEyrawJbRRaIO1tDWDKNTnsbjt4OwvHG.pje-tse-03?idBin=140023484&numeroDocumento=%2Fspca%2FPRODUCAO%2FSPCA_CADASTRO%2FCNPJ%2F0%2F08517423000195%2F2020%2FBR%2FNacional%2F22%2FENCERRAMENTODOCUMENTOS%2F0%2FP22000200000BR9821109A%2F222383%2FDEMONSTRATIVO_NOTAS_EXPLICATIVAS_821568.pdf%3FidArquivo%3DJD222383&nomeArqProcDocBin=documentoProcessual&idProcessoDocumento=141221138&actionMethod=ConsultaPublica%2FDetalheProcessoConsultaPublica%2FlistView.xhtml%3AprocessoDocumentoBinHome.setDownloadInstance%28row%29\n",
      "https://pje.tse.jus.br/pje/ConsultaPublica/DetalheProcessoConsultaPublica/listView.seam;jsessionid=e-9JLU1SrEyrawJbRRaIO1tDWDKNTnsbjt4OwvHG.pje-tse-03?idBin=140023434&numeroDocumento=%2Fspca%2FPRODUCAO%2FSPCA_CADASTRO%2FCNPJ%2F0%2F08517423000195%2F2020%2FBR%2FNacional%2F22%2FENCERRAMENTODOCUMENTOS%2F0%2FP22000200000BR9821109A%2F222383%2FDEMONSTRATIVO_SOBRAS_CAMPANHA_ESTIMAVEL_821567.pdf%3FidArquivo%3DJD222383&nomeArqProcDocBin=documentoProcessual&idProcessoDocumento=141221088&actionMethod=ConsultaPublica%2FDetalheProcessoConsultaPublica%2FlistView.xhtml%3AprocessoDocumentoBinHome.setDownloadInstance%28row%29\n",
      "https://pje.tse.jus.br/pje/ConsultaPublica/DetalheProcessoConsultaPublica/listView.seam;jsessionid=e-9JLU1SrEyrawJbRRaIO1tDWDKNTnsbjt4OwvHG.pje-tse-03?idBin=140023384&numeroDocumento=%2Fspca%2FPRODUCAO%2FSPCA_CADASTRO%2FCNPJ%2F0%2F08517423000195%2F2020%2FBR%2FNacional%2F22%2FENCERRAMENTODOCUMENTOS%2F0%2FP22000200000BR9821109A%2F222383%2FDEMONSTRATIVO_SOBRAS_CAMPANHA_FINANCEIRA_821566.pdf%3FidArquivo%3DJD222383&nomeArqProcDocBin=documentoProcessual&idProcessoDocumento=141221038&actionMethod=ConsultaPublica%2FDetalheProcessoConsultaPublica%2FlistView.xhtml%3AprocessoDocumentoBinHome.setDownloadInstance%28row%29\n",
      "https://pje.tse.jus.br/pje/ConsultaPublica/DetalheProcessoConsultaPublica/listView.seam;jsessionid=e-9JLU1SrEyrawJbRRaIO1tDWDKNTnsbjt4OwvHG.pje-tse-03?idBin=140023334&numeroDocumento=%2Fspca%2FPRODUCAO%2FSPCA_CADASTRO%2FCNPJ%2F0%2F08517423000195%2F2020%2FBR%2FNacional%2F22%2FENCERRAMENTODOCUMENTOS%2F0%2FP22000200000BR9821109A%2F222383%2FDEMONSTRATIVO_CONTRIBUICOES_RECEBIDAS_821565.pdf%3FidArquivo%3DJD222383&nomeArqProcDocBin=documentoProcessual&idProcessoDocumento=141220988&actionMethod=ConsultaPublica%2FDetalheProcessoConsultaPublica%2FlistView.xhtml%3AprocessoDocumentoBinHome.setDownloadInstance%28row%29\n",
      "https://pje.tse.jus.br/pje/ConsultaPublica/DetalheProcessoConsultaPublica/listView.seam;jsessionid=e-9JLU1SrEyrawJbRRaIO1tDWDKNTnsbjt4OwvHG.pje-tse-03?idBin=140023284&numeroDocumento=%2Fspca%2FPRODUCAO%2FSPCA_CADASTRO%2FCNPJ%2F0%2F08517423000195%2F2020%2FBR%2FNacional%2F22%2FENCERRAMENTODOCUMENTOS%2F0%2FP22000200000BR9821109A%2F222383%2FDEMONSTRATIVO_TRANSFERENCIAS_RECURSOS_PARTIDOS_E_CANDIDATOS_821564.pdf%3FidArquivo%3DJD222383&nomeArqProcDocBin=documentoProcessual&idProcessoDocumento=141220938&actionMethod=ConsultaPublica%2FDetalheProcessoConsultaPublica%2FlistView.xhtml%3AprocessoDocumentoBinHome.setDownloadInstance%28row%29\n",
      "https://pje.tse.jus.br/pje/ConsultaPublica/DetalheProcessoConsultaPublica/listView.seam;jsessionid=e-9JLU1SrEyrawJbRRaIO1tDWDKNTnsbjt4OwvHG.pje-tse-03?idBin=140023234&numeroDocumento=%2Fspca%2FPRODUCAO%2FSPCA_CADASTRO%2FCNPJ%2F0%2F08517423000195%2F2020%2FBR%2FNacional%2F22%2FENCERRAMENTODOCUMENTOS%2F0%2FP22000200000BR9821109A%2F222383%2FEXTRATO_PRESTACAO_CONTAS_821563.pdf%3FidArquivo%3DJD222383&nomeArqProcDocBin=documentoProcessual&idProcessoDocumento=141220888&actionMethod=ConsultaPublica%2FDetalheProcessoConsultaPublica%2FlistView.xhtml%3AprocessoDocumentoBinHome.setDownloadInstance%28row%29\n",
      "https://pje.tse.jus.br/pje/ConsultaPublica/DetalheProcessoConsultaPublica/listView.seam;jsessionid=e-9JLU1SrEyrawJbRRaIO1tDWDKNTnsbjt4OwvHG.pje-tse-03?idBin=140023184&numeroDocumento=%2Fspca%2FPRODUCAO%2FSPCA_CADASTRO%2FCNPJ%2F0%2F08517423000195%2F2020%2FBR%2FNacional%2F22%2FENCERRAMENTODOCUMENTOS%2F0%2FP22000200000BR9821109A%2F222383%2FDEMONSTRATIVO_DIVIDAS_CAMPANHA_DIVIDAS_DIRETORIOS_PARTIDARIOS_DESPESAS_ELEITORAIS_821562.pdf%3FidArquivo%3DJD222383&nomeArqProcDocBin=documentoProcessual&idProcessoDocumento=141220838&actionMethod=ConsultaPublica%2FDetalheProcessoConsultaPublica%2FlistView.xhtml%3AprocessoDocumentoBinHome.setDownloadInstance%28row%29\n",
      "https://pje.tse.jus.br/pje/ConsultaPublica/DetalheProcessoConsultaPublica/listView.seam;jsessionid=e-9JLU1SrEyrawJbRRaIO1tDWDKNTnsbjt4OwvHG.pje-tse-03?idBin=140023134&numeroDocumento=%2Fspca%2FPRODUCAO%2FSPCA_CADASTRO%2FCNPJ%2F0%2F08517423000195%2F2020%2FBR%2FNacional%2F22%2FENCERRAMENTODOCUMENTOS%2F0%2FP22000200000BR9821109A%2F222383%2FDEMONSTRATIVO_DIVIDAS_CAMPANHA_DIVIDAS_COMITES_FINANCEIROS_DESPESAS_ELEITORAIS_821561.pdf%3FidArquivo%3DJD222383&nomeArqProcDocBin=documentoProcessual&idProcessoDocumento=141220788&actionMethod=ConsultaPublica%2FDetalheProcessoConsultaPublica%2FlistView.xhtml%3AprocessoDocumentoBinHome.setDownloadInstance%28row%29\n",
      "https://pje.tse.jus.br/pje/ConsultaPublica/DetalheProcessoConsultaPublica/listView.seam;jsessionid=e-9JLU1SrEyrawJbRRaIO1tDWDKNTnsbjt4OwvHG.pje-tse-03?idBin=140023084&numeroDocumento=%2Fspca%2FPRODUCAO%2FSPCA_CADASTRO%2FCNPJ%2F0%2F08517423000195%2F2020%2FBR%2FNacional%2F22%2FENCERRAMENTODOCUMENTOS%2F0%2FP22000200000BR9821109A%2F222383%2FDEMONSTRATIVO_DIVIDAS_CAMPANHA_DIVIDAS_CANDIDATOS_DESPESAS_ELEITORAIS_821559.pdf%3FidArquivo%3DJD222383&nomeArqProcDocBin=documentoProcessual&idProcessoDocumento=141220738&actionMethod=ConsultaPublica%2FDetalheProcessoConsultaPublica%2FlistView.xhtml%3AprocessoDocumentoBinHome.setDownloadInstance%28row%29\n",
      "https://pje.tse.jus.br/pje/ConsultaPublica/DetalheProcessoConsultaPublica/listView.seam;jsessionid=e-9JLU1SrEyrawJbRRaIO1tDWDKNTnsbjt4OwvHG.pje-tse-03?idBin=140023034&numeroDocumento=%2Fspca%2FPRODUCAO%2FSPCA_CADASTRO%2FCNPJ%2F0%2F08517423000195%2F2020%2FBR%2FNacional%2F22%2FENCERRAMENTODOCUMENTOS%2F0%2FP22000200000BR9821109A%2F222383%2FDEMONSTRATIVO_OBRIGACOES_A_PAGAR_821553.pdf%3FidArquivo%3DJD222383&nomeArqProcDocBin=documentoProcessual&idProcessoDocumento=141220688&actionMethod=ConsultaPublica%2FDetalheProcessoConsultaPublica%2FlistView.xhtml%3AprocessoDocumentoBinHome.setDownloadInstance%28row%29\n",
      "https://pje.tse.jus.br/pje/ConsultaPublica/DetalheProcessoConsultaPublica/listView.seam;jsessionid=e-9JLU1SrEyrawJbRRaIO1tDWDKNTnsbjt4OwvHG.pje-tse-03?idBin=140022984&numeroDocumento=%2Fspca%2FPRODUCAO%2FSPCA_CADASTRO%2FCNPJ%2F0%2F08517423000195%2F2020%2FBR%2FNacional%2F22%2FENCERRAMENTODOCUMENTOS%2F0%2FP22000200000BR9821109A%2F222383%2FDEMONSTRATIVO_DOACOES_ESTIMAVEIS_RECEBIDAS_821550.pdf%3FidArquivo%3DJD222383&nomeArqProcDocBin=documentoProcessual&idProcessoDocumento=141220638&actionMethod=ConsultaPublica%2FDetalheProcessoConsultaPublica%2FlistView.xhtml%3AprocessoDocumentoBinHome.setDownloadInstance%28row%29\n",
      "https://pje.tse.jus.br/pje/ConsultaPublica/DetalheProcessoConsultaPublica/listView.seam;jsessionid=e-9JLU1SrEyrawJbRRaIO1tDWDKNTnsbjt4OwvHG.pje-tse-03?idBin=140022934&numeroDocumento=%2Fspca%2FPRODUCAO%2FSPCA_CADASTRO%2FCNPJ%2F0%2F08517423000195%2F2020%2FBR%2FNacional%2F22%2FENCERRAMENTODOCUMENTOS%2F0%2FP22000200000BR9821109A%2F222383%2FDEMONSTRATIVO_DOACOES_FINANCEIRAS_RECEBIDAS_821549.pdf%3FidArquivo%3DJD222383&nomeArqProcDocBin=documentoProcessual&idProcessoDocumento=141220588&actionMethod=ConsultaPublica%2FDetalheProcessoConsultaPublica%2FlistView.xhtml%3AprocessoDocumentoBinHome.setDownloadInstance%28row%29\n",
      "https://pje.tse.jus.br/pje/ConsultaPublica/DetalheProcessoConsultaPublica/listView.seam;jsessionid=e-9JLU1SrEyrawJbRRaIO1tDWDKNTnsbjt4OwvHG.pje-tse-03?idBin=140022884&numeroDocumento=%2Fspca%2FPRODUCAO%2FSPCA_CADASTRO%2FCNPJ%2F0%2F08517423000195%2F2020%2FBR%2FNacional%2F22%2FENCERRAMENTODOCUMENTOS%2F0%2FP22000200000BR9821109A%2F222383%2FDEMONSTRATIVO_RECURSOS_PUBLICOS_DISTRIBUIDOS_821548.pdf%3FidArquivo%3DJD222383&nomeArqProcDocBin=documentoProcessual&idProcessoDocumento=141220538&actionMethod=ConsultaPublica%2FDetalheProcessoConsultaPublica%2FlistView.xhtml%3AprocessoDocumentoBinHome.setDownloadInstance%28row%29\n",
      "https://pje.tse.jus.br/pje/ConsultaPublica/DetalheProcessoConsultaPublica/listView.seam;jsessionid=e-9JLU1SrEyrawJbRRaIO1tDWDKNTnsbjt4OwvHG.pje-tse-03?idBin=140022834&numeroDocumento=%2Fspca%2FPRODUCAO%2FSPCA_CADASTRO%2FCNPJ%2F0%2F08517423000195%2F2020%2FBR%2FNacional%2F22%2FENCERRAMENTODOCUMENTOS%2F0%2FP22000200000BR9821109A%2F222383%2FRELACAO_RECURSOS_PUBLICO_RECEBIDOS_821547.pdf%3FidArquivo%3DJD222383&nomeArqProcDocBin=documentoProcessual&idProcessoDocumento=141220488&actionMethod=ConsultaPublica%2FDetalheProcessoConsultaPublica%2FlistView.xhtml%3AprocessoDocumentoBinHome.setDownloadInstance%28row%29\n",
      "https://pje.tse.jus.br/pje/ConsultaPublica/DetalheProcessoConsultaPublica/listView.seam;jsessionid=e-9JLU1SrEyrawJbRRaIO1tDWDKNTnsbjt4OwvHG.pje-tse-03?idBin=140022784&numeroDocumento=%2Fspca%2FPRODUCAO%2FSPCA_CADASTRO%2FCNPJ%2F0%2F08517423000195%2F2020%2FBR%2FNacional%2F22%2FENCERRAMENTODOCUMENTOS%2F0%2FP22000200000BR9821109A%2F222383%2FRELACAO_AGENTES_RESPONSAVEIS_821546.pdf%3FidArquivo%3DJD222383&nomeArqProcDocBin=documentoProcessual&idProcessoDocumento=141220438&actionMethod=ConsultaPublica%2FDetalheProcessoConsultaPublica%2FlistView.xhtml%3AprocessoDocumentoBinHome.setDownloadInstance%28row%29\n",
      "1\n",
      "https://pje.tse.jus.br/pje/ConsultaPublica/DetalheProcessoConsultaPublica/listView.seam?idBin=140022734&numeroDocumento=%2Fspca%2FPRODUCAO%2FSPCA_CADASTRO%2FCNPJ%2F0%2F08517423000195%2F2020%2FBR%2FNacional%2F22%2FENCERRAMENTODOCUMENTOS%2F0%2FP22000200000BR9821109A%2F222383%2FDEMONSTRATIVOS_DOS_ACORDOS_DESPESA_821545.pdf%3FidArquivo%3DJD222383&nomeArqProcDocBin=documentoProcessual&idProcessoDocumento=141220388&actionMethod=ConsultaPublica%2FDetalheProcessoConsultaPublica%2FlistView.xhtml%3AprocessoDocumentoBinHome.setDownloadInstance%28row%29\n",
      "https://pje.tse.jus.br/pje/ConsultaPublica/DetalheProcessoConsultaPublica/listView.seam?idBin=140022684&numeroDocumento=%2Fspca%2FPRODUCAO%2FSPCA_CADASTRO%2FCNPJ%2F0%2F08517423000195%2F2020%2FBR%2FNacional%2F22%2FENCERRAMENTODOCUMENTOS%2F0%2FP22000200000BR9821109A%2F222383%2FDEMONSTRATIVOS_DOS_ACORDOS_RECEITA_821544.pdf%3FidArquivo%3DJD222383&nomeArqProcDocBin=documentoProcessual&idProcessoDocumento=141220338&actionMethod=ConsultaPublica%2FDetalheProcessoConsultaPublica%2FlistView.xhtml%3AprocessoDocumentoBinHome.setDownloadInstance%28row%29\n",
      "https://pje.tse.jus.br/pje/ConsultaPublica/DetalheProcessoConsultaPublica/listView.seam?idBin=140022634&numeroDocumento=%2Fspca%2FPRODUCAO%2FSPCA_CADASTRO%2FCNPJ%2F0%2F08517423000195%2F2020%2FBR%2FNacional%2F22%2FENCERRAMENTODOCUMENTOS%2F0%2FP22000200000BR9821109A%2F222383%2FDEMONSTRATIVO_CONCILIACAO_BANCARIA_821543.pdf%3FidArquivo%3DJD222383&nomeArqProcDocBin=documentoProcessual&idProcessoDocumento=141220288&actionMethod=ConsultaPublica%2FDetalheProcessoConsultaPublica%2FlistView.xhtml%3AprocessoDocumentoBinHome.setDownloadInstance%28row%29\n",
      "https://pje.tse.jus.br/pje/ConsultaPublica/DetalheProcessoConsultaPublica/listView.seam?idBin=140022584&numeroDocumento=%2Fspca%2FPRODUCAO%2FSPCA_CADASTRO%2FCNPJ%2F0%2F08517423000195%2F2020%2FBR%2FNacional%2F22%2FENCERRAMENTODOCUMENTOS%2F0%2FP22000200000BR9821109A%2F222383%2FRELACAO_CONTAS_BANCARIAS_ABERTAS_821542.pdf%3FidArquivo%3DJD222383&nomeArqProcDocBin=documentoProcessual&idProcessoDocumento=141220238&actionMethod=ConsultaPublica%2FDetalheProcessoConsultaPublica%2FlistView.xhtml%3AprocessoDocumentoBinHome.setDownloadInstance%28row%29\n",
      "https://pje.tse.jus.br/pje/ConsultaPublica/DetalheProcessoConsultaPublica/listView.seam?idBin=140022534&numeroDocumento=%2Fspca%2FPRODUCAO%2FSPCA_CADASTRO%2FCNPJ%2F0%2F08517423000195%2F2020%2FBR%2FNacional%2F22%2FENCERRAMENTODOCUMENTOS%2F0%2FP22000200000BR9821109A%2F222383%2FDECLARACAO_JUNTADA_DEMONSTRATIVO_PJE_821541.pdf%3FidArquivo%3DJD222383&nomeArqProcDocBin=documentoProcessual&idProcessoDocumento=141220188&actionMethod=ConsultaPublica%2FDetalheProcessoConsultaPublica%2FlistView.xhtml%3AprocessoDocumentoBinHome.setDownloadInstance%28row%29\n"
     ]
    }
   ],
   "source": [
    "# Iteração pela quantidade de páginas\n",
    "for x in range(paginas):\n",
    "    print(x)\n",
    "\n",
    "    # Procura todos elementos com href\n",
    "    elems = driver.find_elements_by_xpath(\"//a[@href]\")\n",
    "\n",
    "    # Itera nos elementos encontrados\n",
    "    for elem in elems:\n",
    "        \n",
    "        # Testa se existe um link disponível no href, esperando 1000000 segundos\n",
    "        try:\n",
    "            links = WebDriverWait(elem, 1000000).until(find)\n",
    "        \n",
    "            # Se o link tiver .pdf \n",
    "            if \".pdf\" in links or \".PDF\" in links:\n",
    "                link_baixa = links\n",
    "                print(link_baixa)\n",
    "                \n",
    "                # Cria um nome sequencial para o arquivo encontrado\n",
    "                conta += 1\n",
    "                nome = \"pl_2020_\" + str(conta) + \".pdf\"\n",
    "            \n",
    "                # Faz uma requisição neste link e salva o conteúdo com o nome\n",
    "                r = requests.get(link_baixa, allow_redirects=True)\n",
    "                open(nome, 'wb').write(r.content)\n",
    "        \n",
    "        # Vai para o próximo arquivo se não encontrar nada ou a conexão não deixar\n",
    "        except:\n",
    "            continue\n",
    "    \n",
    "    # Procura o elemento da próxima página, espera aparecer\n",
    "    element = WebDriverWait(driver, 2000).until(EC.element_to_be_clickable((By.XPATH, \"//*[@id='j_id130:j_id619:j_id620ArrowInc']\")))\n",
    "    # Faz o clique\n",
    "    element.click()\n",
    "    # Espera cinco segundos\n",
    "    time.sleep(5)"
   ]
  },
  {
   "cell_type": "code",
   "execution_count": null,
   "id": "6caaca37-9664-4355-9e9a-eb0967834239",
   "metadata": {},
   "outputs": [],
   "source": []
  },
  {
   "cell_type": "code",
   "execution_count": null,
   "id": "0d6e8215-b3ac-479a-9642-09f98018dbf1",
   "metadata": {},
   "outputs": [],
   "source": []
  },
  {
   "cell_type": "code",
   "execution_count": null,
   "id": "98ead93c-686c-4da9-855e-82cd2e1e9741",
   "metadata": {},
   "outputs": [],
   "source": []
  }
 ],
 "metadata": {
  "kernelspec": {
   "display_name": "Python 3 (ipykernel)",
   "language": "python",
   "name": "python3"
  },
  "language_info": {
   "codemirror_mode": {
    "name": "ipython",
    "version": 3
   },
   "file_extension": ".py",
   "mimetype": "text/x-python",
   "name": "python",
   "nbconvert_exporter": "python",
   "pygments_lexer": "ipython3",
   "version": "3.9.5"
  }
 },
 "nbformat": 4,
 "nbformat_minor": 5
}
