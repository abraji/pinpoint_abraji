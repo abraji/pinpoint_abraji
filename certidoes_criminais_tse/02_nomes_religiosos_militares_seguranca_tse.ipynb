{
 "cells": [
  {
   "cell_type": "code",
   "execution_count": null,
   "id": "2c388926-92f6-493a-9a16-86f95b489fe0",
   "metadata": {},
   "outputs": [],
   "source": [
    "# -*- coding: utf-8\n",
    "# Reinaldo Chaves (@paidatocandeira)\n",
    "# Processa a lista completa de candidatos nas eleições 2022\n",
    "# Procura por nomes nas colunas \"DS_OCUPACAO\" e \"NM_URNA_CANDIDATO\"\n",
    "# Usado Ubuntu 22.04.1 LTS\n",
    "#"
   ]
  },
  {
   "cell_type": "code",
   "execution_count": null,
   "id": "0db25801-671b-4beb-9fb2-7a7ff459841c",
   "metadata": {},
   "outputs": [],
   "source": []
  },
  {
   "cell_type": "code",
   "execution_count": 1,
   "id": "2b1207d0-4936-4f15-936f-f8e15f7223f6",
   "metadata": {},
   "outputs": [],
   "source": [
    "import pandas as pd"
   ]
  },
  {
   "cell_type": "code",
   "execution_count": null,
   "id": "660cff57-9666-40d7-a71f-48381427eb44",
   "metadata": {},
   "outputs": [],
   "source": []
  },
  {
   "cell_type": "code",
   "execution_count": null,
   "id": "b9c46ff8-128c-447e-a3e4-2764cc6126d4",
   "metadata": {},
   "outputs": [],
   "source": [
    "# Lista de candidatos:\n",
    "# https://dadosabertos.tse.jus.br/dataset/candidatos-2022/resource/435145fd-bc9d-446a-ac9d-273f585a0bb9"
   ]
  },
  {
   "cell_type": "code",
   "execution_count": 9,
   "id": "d5eec0b8-96cc-4bb4-bd13-83ef25647f7d",
   "metadata": {},
   "outputs": [],
   "source": [
    "kwargs = {'sep': ';', 'dtype': str, 'encoding': 'latin_1'}\n",
    "candidatos = pd.read_csv(\"/home/abraji/Documentos/Code/reinaldo/repo/RB/rura2/originais/consulta_cand_2022_BRASIL_24_ago.csv\", **kwargs)"
   ]
  },
  {
   "cell_type": "code",
   "execution_count": 10,
   "id": "4f5d4112-8cf8-4b8d-8f52-15d47bb3d2ef",
   "metadata": {},
   "outputs": [
    {
     "data": {
      "text/plain": [
       "Index(['DT_GERACAO', 'HH_GERACAO', 'ANO_ELEICAO', 'CD_TIPO_ELEICAO',\n",
       "       'NM_TIPO_ELEICAO', 'NR_TURNO', 'CD_ELEICAO', 'DS_ELEICAO', 'DT_ELEICAO',\n",
       "       'TP_ABRANGENCIA', 'SG_UF', 'SG_UE', 'NM_UE', 'CD_CARGO', 'DS_CARGO',\n",
       "       'SQ_CANDIDATO', 'NR_CANDIDATO', 'NM_CANDIDATO', 'NM_URNA_CANDIDATO',\n",
       "       'NM_SOCIAL_CANDIDATO', 'NR_CPF_CANDIDATO', 'NM_EMAIL',\n",
       "       'CD_SITUACAO_CANDIDATURA', 'DS_SITUACAO_CANDIDATURA',\n",
       "       'CD_DETALHE_SITUACAO_CAND', 'DS_DETALHE_SITUACAO_CAND', 'TP_AGREMIACAO',\n",
       "       'NR_PARTIDO', 'SG_PARTIDO', 'NM_PARTIDO', 'NR_FEDERACAO',\n",
       "       'NM_FEDERACAO', 'SG_FEDERACAO', 'DS_COMPOSICAO_FEDERACAO',\n",
       "       'SQ_COLIGACAO', 'NM_COLIGACAO', 'DS_COMPOSICAO_COLIGACAO',\n",
       "       'CD_NACIONALIDADE', 'DS_NACIONALIDADE', 'SG_UF_NASCIMENTO',\n",
       "       'CD_MUNICIPIO_NASCIMENTO', 'NM_MUNICIPIO_NASCIMENTO', 'DT_NASCIMENTO',\n",
       "       'NR_IDADE_DATA_POSSE', 'NR_TITULO_ELEITORAL_CANDIDATO', 'CD_GENERO',\n",
       "       'DS_GENERO', 'CD_GRAU_INSTRUCAO', 'DS_GRAU_INSTRUCAO',\n",
       "       'CD_ESTADO_CIVIL', 'DS_ESTADO_CIVIL', 'CD_COR_RACA', 'DS_COR_RACA',\n",
       "       'CD_OCUPACAO', 'DS_OCUPACAO', 'VR_DESPESA_MAX_CAMPANHA',\n",
       "       'CD_SIT_TOT_TURNO', 'DS_SIT_TOT_TURNO', 'ST_REELEICAO',\n",
       "       'ST_DECLARAR_BENS', 'NR_PROTOCOLO_CANDIDATURA', 'NR_PROCESSO',\n",
       "       'CD_SITUACAO_CANDIDATO_PLEITO', 'DS_SITUACAO_CANDIDATO_PLEITO',\n",
       "       'CD_SITUACAO_CANDIDATO_URNA', 'DS_SITUACAO_CANDIDATO_URNA',\n",
       "       'ST_CANDIDATO_INSERIDO_URNA', 'NM_TIPO_DESTINACAO_VOTOS',\n",
       "       'CD_SITUACAO_CANDIDATO_TOT', 'DS_SITUACAO_CANDIDATO_TOT',\n",
       "       'ST_PREST_CONTAS'],\n",
       "      dtype='object')"
      ]
     },
     "execution_count": 10,
     "metadata": {},
     "output_type": "execute_result"
    }
   ],
   "source": [
    "candidatos.columns"
   ]
  },
  {
   "cell_type": "code",
   "execution_count": null,
   "id": "bd87fea9-1b34-47d8-b34d-199f5c1fd162",
   "metadata": {},
   "outputs": [],
   "source": []
  },
  {
   "cell_type": "code",
   "execution_count": 11,
   "id": "91f2835e-865d-41a4-8930-8e8f60d773e0",
   "metadata": {},
   "outputs": [
    {
     "name": "stdout",
     "output_type": "stream",
     "text": [
      "['POLICIAL MILITAR' 'AGRICULTOR' 'PROFESSOR DE ENSINO MÉDIO' 'CONTADOR'\n",
      " 'FONOAUDIÓLOGO' 'JORNALISTA E REDATOR' 'VEREADOR' 'ADVOGADO'\n",
      " 'ESTUDANTE, BOLSISTA, ESTAGIÁRIO E ASSEMELHADOS' 'OUTROS' 'PEDAGOGO'\n",
      " 'EMPRESÁRIO' 'ADMINISTRADOR' 'MÉDICO' 'POLICIAL CIVIL'\n",
      " 'SERVIDOR PÚBLICO MUNICIPAL' 'ODONTÓLOGO'\n",
      " 'APOSENTADO (EXCETO SERVIDOR PÚBLICO)' 'SERVIDOR PÚBLICO ESTADUAL'\n",
      " 'COMERCIÁRIO' 'DONA DE CASA' 'DEPUTADO' 'AGRÔNOMO' 'ASSISTENTE SOCIAL'\n",
      " 'PSICÓLOGO' 'CANTOR E COMPOSITOR' 'SERVIDOR PÚBLICO CIVIL APOSENTADO'\n",
      " 'PUBLICITÁRIO' 'PADEIRO, CONFEITEIRO E ASSEMELHADOS'\n",
      " 'TÉCNICO DE ELETRICIDADE, ELETRÔNICA E TELECOMUNICAÇÕES' 'COMERCIANTE'\n",
      " 'AGENTE ADMINISTRATIVO' 'ENGENHEIRO'\n",
      " 'SACERDOTE OU MEMBRO DE ORDEM OU SEITA RELIGIOSA' 'ENFERMEIRO'\n",
      " 'VENDEDOR PRACISTA, REPRESENTANTE, CAIXEIRO-VIAJANTE E ASSEMELHADOS'\n",
      " 'SERVIDOR PÚBLICO FEDERAL' 'PROFESSOR DE ENSINO SUPERIOR' 'DIGITADOR'\n",
      " 'MILITAR REFORMADO' 'PROFESSOR DE ENSINO FUNDAMENTAL'\n",
      " 'FISIOTERAPEUTA E TERAPEUTA OCUPACIONAL' 'MOTORISTA PARTICULAR'\n",
      " 'LOCUTOR E COMENTARISTA DE RÁDIO E TELEVISÃO E RADIALISTA'\n",
      " 'VENDEDOR DE COMÉRCIO VAREJISTA E ATACADISTA' 'GUIA DE TURISMO' 'TAXISTA'\n",
      " 'TERAPEUTA' 'MOTORISTA DE VEÍCULOS DE TRANSPORTE COLETIVO DE PASSAGEIROS'\n",
      " 'AUXILIAR DE LABORATÓRIO'\n",
      " 'CORRETOR DE IMÓVEIS, SEGUROS, TÍTULOS E VALORES' 'ARQUITETO' 'MÚSICO'\n",
      " 'PESCADOR' 'TÉCNICO DE ENFERMAGEM E ASSEMELHADOS (EXCETO ENFERMEIRO)'\n",
      " 'SENADOR' 'TÉCNICO EM INFORMÁTICA' 'PRODUTOR AGROPECUÁRIO' 'VIGILANTE'\n",
      " 'MASSAGISTA' 'BOMBEIRO MILITAR' 'TÉCNICO DE MECÂNICA'\n",
      " 'EMPREGADO DOMÉSTICO' 'PROFESSOR E INSTRUTOR DE FORMAÇÃO PROFISSIONAL'\n",
      " 'ANALISTA DE SISTEMAS' 'FISCAL'\n",
      " 'SECRETÁRIO,ESTENÓGRAFO,DATILÓGRAFO,RECEPCIONISTA,TELEFONISTA,TAQUÍGRAF'\n",
      " 'ECONOMISTA' 'TRABALHADOR RURAL' 'PECUARISTA' 'MECÂNICO DE MANUTENÇÃO'\n",
      " 'ATOR E DIRETOR DE ESPETÁCULOS PÚBLICOS' 'RECEPCIONISTA' 'GERENTE'\n",
      " 'AGENTE DE SAÚDE E SANITARISTA' 'CABELEIREIRO E BARBEIRO'\n",
      " 'CATADOR DE RECICLÁVEIS'\n",
      " 'PROFESSOR DE ENSINO DE PRIMEIRO E SEGUNDO GRAUS' 'ALMOXARIFE'\n",
      " 'NÃO DIVULGÁVEL' 'ELETRICISTA E ASSEMELHADOS' 'COZINHEIRO'\n",
      " 'AUXILIAR DE ESCRITÓRIO E ASSEMELHADOS' 'FEIRANTE, AMBULANTE E MASCATE'\n",
      " 'TÉCNICO DE OBRAS CIVIS, ESTRADAS, SANEAMENTO E ASSEMELHADOS'\n",
      " 'TÉCNICO DE LABORATÓRIO E RAIOS X'\n",
      " 'TÉCNICO CONTABILIDADE, ESTATÍSTICA, ECONOMIA DOMÉSTICA E ADMINISTRAÇÃO'\n",
      " 'NUTRICIONISTA E ASSEMELHADOS' 'TRABALHADOR DE ARTES GRÁFICAS'\n",
      " 'DIRETOR DE EMPRESAS' 'ARTESÃO' 'GEÓLOGO' 'SERVENTUÁRIO DE JUSTIÇA'\n",
      " 'BANCÁRIO E ECONOMIÁRIO' 'TORNEIRO MECÂNICO' 'MEMBRO DAS FORÇAS ARMADAS'\n",
      " 'SOCIÓLOGO' 'FARMACÊUTICO' 'AGENTE POSTAL' 'COMUNICÓLOGO'\n",
      " 'MOTORISTA DE VEÍCULOS DE TRANSPORTE DE CARGA'\n",
      " 'PRODUTOR DE ESPETÁCULOS PÚBLICOS'\n",
      " 'PORTEIRO DE EDIFÍCIO, ASCENSORISTA, GARAGISTA E ZELADOR' 'VETERINÁRIO'\n",
      " 'MAGISTRADO'\n",
      " 'CABELEIREIRO, BARBEIRO, MANICURE, MAQUILADOR, ESTETICISTA E MASSAGISTA'\n",
      " 'FOTÓGRAFO E ASSEMELHADOS' 'REPRESENTANTE COMERCIAL'\n",
      " 'SECRETÁRIO E DATILÓGRAFO' 'TRABALHADOR DE CONSTRUÇÃO CIVIL'\n",
      " 'TÉCNICO EM AGRONOMIA E AGRIMENSURA'\n",
      " 'SUPERVISOR, INSPETOR E AGENTE DE COMPRAS E VENDAS'\n",
      " 'TÉCNICO EM EDIFICAÇÕES' 'DECORADOR' 'LANTERNEIRO E PINTOR DE VEÍCULOS'\n",
      " 'OPERADOR DE EQUIPAMENTO DE RÁDIO, TELEVISÃO, SOM E CINEMA'\n",
      " 'BOMBEIRO CIVIL' 'GARI OU LIXEIRO' 'SENADOR, DEPUTADO E VEREADOR'\n",
      " 'DESPACHANTE' 'DESENHISTA' 'COBRADOR DE TRANSPORTE COLETIVO'\n",
      " 'ATLETA PROFISSIONAL E TÉCNICO EM DESPORTOS' 'ESCRITOR E CRÍTICO'\n",
      " 'CIENTISTA POLÍTICO' 'ATENDENTE DE LANCHONETE E RESTAURANTE'\n",
      " 'HISTORIADOR' 'MANICURE E MAQUILADOR' 'ARTISTA PLÁSTICO E ASSEMELHADOS'\n",
      " 'ESCULTOR E PINTOR' 'COMISSÁRIO DE BORDO' 'ESTETICISTA'\n",
      " 'AGENTE DE SERVIÇOS FUNERÁRIOS E EMBALSAMADOR' 'FRENTISTA'\n",
      " 'OCUPANTE DE CARGO EM COMISSÃO' 'GEÓGRAFO'\n",
      " 'TRABALHADOR METALÚRGICO E SIDERÚRGICO' 'AGENCIADOR DE PROPAGANDA'\n",
      " 'DIRETOR DE ESTABELECIMENTO DE ENSINO'\n",
      " 'OPERADOR DE IMPLEMENTO DE AGRICULTURA, PECUÁRIA E EXPLORAÇÃO FLORESTAL'\n",
      " 'MOTOBOY' 'TELEFONISTA' 'JARDINEIRO' 'PETROLEIRO' 'FUNILEIRO' 'GARÇOM'\n",
      " 'MEMBRO DO MINISTÉRIO PÚBLICO' 'ANTROPÓLOGO' 'BIÓLOGO' 'PROTÉTICO'\n",
      " 'RELAÇÕES-PÚBLICAS' 'TABELIÃO' 'LEILOEIRO, AVALIADOR E ASSEMELHADOS'\n",
      " 'BIBLIOTECÁRIO' 'TÉCNICO DE MINERAÇÃO, METALURGIA E GEOLOGIA'\n",
      " 'AGENTE DE VIAGEM' 'MINISTRO DE ESTADO' 'GOVERNADOR'\n",
      " 'PROGRAMADOR DE COMPUTADOR'\n",
      " 'BOMBEIRO E INSTALADOR DE GÁS, ÁGUA, ESGOTO E ASSEMELHADOS'\n",
      " 'TAXISTA E MOTORISTA PARTICULAR' 'JORNALEIRO' 'BIOMÉDICO'\n",
      " 'TRABALHADOR DE USINAGEM DE METAIS'\n",
      " 'PILOTO DE AVIAÇÃO COMERCIAL, NAVEGADOR, MECÂNICO DE VÔO E ASSEMELHADOS'\n",
      " 'FERROVIÁRIO' 'SERRALHEIRO' 'EMBALADOR, EMPACOTADOR E ASSEMELHADOS'\n",
      " 'FÍSICO' 'OPERADOR DE APARELHOS DE PRODUÇÃO INDUSTRIAL'\n",
      " 'CARPINTEIRO, MARCENEIRO E ASSEMELHADOS' 'TÉCNICO DE QUÍMICA' 'ASTRÔNOMO'\n",
      " 'ALFAIATE E COSTUREIRO' 'INDUSTRIAL' 'CHAVEIRO'\n",
      " 'ENCANADOR, SOLDADOR, CHAPEADOR E CALDEIREIRO' 'ZOOTECNISTA' 'TAPECEIRO'\n",
      " 'TRADUTOR, INTÉRPRETE E FILÓLOGO' 'SALVA-VIDAS' 'OCEANÓGRAFO'\n",
      " 'OPERADOR DE INSTALAÇÃO DE PRODUÇÃO DE ENERGIA ELÉTRICA E NUCLEAR'\n",
      " 'CONTROLADOR DE TRÁFEGO AÉREO' 'MODELO' 'FAXINEIRO'\n",
      " 'TRABALHADOR DE FABRICAÇÃO DE ROUPAS' 'SECURITÁRIO'\n",
      " 'AGENTE DE VIAGEM E GUIA DE TURISMO' 'MONTADOR DE MÁQUINAS'\n",
      " 'DEMONSTRADOR' 'QUÍMICO'\n",
      " 'PORTEIRO DE EDIFÍCIO, ASCENSORISTA, GARAGISTA, FAXINEIRO E ZELADOR'\n",
      " 'ENGRAXATE' 'BACTERIOLOGISTA E ASSEMELHADOS' 'TRABALHADOR FLORESTAL'\n",
      " 'MAQUINISTA E FOGUISTA DE EMBARCAÇÕES E ASSEMELHADOS' 'PREFEITO'\n",
      " 'ARQUEÓLOGO' 'MARINHEIRO CIVIL, CANOEIRO, EMBARCADO E ASSEMELHADOS'\n",
      " 'COREÓGRAFO E BAILARINO'\n",
      " 'TRABALHADOR DOS SERVIÇOS DE CONTABILIDADE, DE CAIXA E ASSEMELHADOS'\n",
      " 'ESTOFADOR' 'TRABALHADOR DE HOTELARIA' 'PRESIDENTE DA REPÚBLICA'\n",
      " 'TRABALHADOR DE MINAS E PEDREIRAS, SONDADOR E ASSEMELHADOS'\n",
      " 'CAPITALISTA DE ATIVOS FINANCEIROS' 'ECONOMISTA DOMÉSTICO'\n",
      " 'LAVADOR DE VEÍCULOS' 'GARIMPEIRO' 'TÉCNICO TÊXTIL'\n",
      " 'BIBLIOTECÁRIO, ARQUIVISTA, MUSEÓLOGO E ARQUEÓLOGO' 'DIPLOMATA'\n",
      " 'FISCAL DE TRANSPORTE COLETIVO' 'COMANDANTE DE EMBARCAÇÕES'\n",
      " 'ARTISTA DE CIRCO' 'RELOJOEIRO E MONTADOR DE INSTRUMENTO DE PRECISÃO'\n",
      " 'ESTIVADOR, CARREGADOR, EMBALADOR E ASSEMELHADOS'\n",
      " 'ESCULTOR, PINTOR, ARTISTA PLÁSTICO E ASSEMELHADOS']\n"
     ]
    }
   ],
   "source": [
    "# Cria uma lista de todas as ocupações declaradas em 2022\n",
    "a = candidatos['DS_OCUPACAO'].unique()\n",
    "a_tolist = a.tolist()\n",
    "print(a)"
   ]
  },
  {
   "cell_type": "code",
   "execution_count": 12,
   "id": "3d354617-a29c-4b85-8358-951e2f9a30df",
   "metadata": {},
   "outputs": [
    {
     "name": "stdout",
     "output_type": "stream",
     "text": [
      "                                      ocupacoes_no_tse\n",
      "0                                     POLICIAL MILITAR\n",
      "1                                           AGRICULTOR\n",
      "2                            PROFESSOR DE ENSINO MÉDIO\n",
      "3                                             CONTADOR\n",
      "4                                        FONOAUDIÓLOGO\n",
      "..                                                 ...\n",
      "214                          COMANDANTE DE EMBARCAÇÕES\n",
      "215                                   ARTISTA DE CIRCO\n",
      "216   RELOJOEIRO E MONTADOR DE INSTRUMENTO DE PRECISÃO\n",
      "217    ESTIVADOR, CARREGADOR, EMBALADOR E ASSEMELHADOS\n",
      "218  ESCULTOR, PINTOR, ARTISTA PLÁSTICO E ASSEMELHADOS\n",
      "\n",
      "[219 rows x 1 columns]\n"
     ]
    }
   ],
   "source": [
    "df = pd.DataFrame (a, columns = ['ocupacoes_no_tse'])\n",
    "print (df)"
   ]
  },
  {
   "cell_type": "code",
   "execution_count": 13,
   "id": "6d9f07da-6f33-4172-959f-c10675e8c73c",
   "metadata": {},
   "outputs": [],
   "source": [
    "df.to_excel('ocupacoes_tse_2022.xlsx',sheet_name='Sheet1',index=False)"
   ]
  },
  {
   "cell_type": "code",
   "execution_count": null,
   "id": "c570fd25-3851-4e03-820e-5f03b36aa4de",
   "metadata": {},
   "outputs": [],
   "source": []
  },
  {
   "cell_type": "code",
   "execution_count": null,
   "id": "76166031-6e9d-4554-ab3a-9d35fffb2ea2",
   "metadata": {},
   "outputs": [],
   "source": [
    "# Filtra primeiro todos os candidatos com ocupações militares ou de segurança pública/privada"
   ]
  },
  {
   "cell_type": "code",
   "execution_count": 14,
   "id": "9b28f512-4fd8-49a3-97e8-ec111d629245",
   "metadata": {},
   "outputs": [
    {
     "data": {
      "text/plain": [
       "(1600, 71)"
      ]
     },
     "execution_count": 14,
     "metadata": {},
     "output_type": "execute_result"
    }
   ],
   "source": [
    "busca1 = candidatos[(candidatos['DS_OCUPACAO'] == 'POLICIAL MILITAR') |\n",
    "                    (candidatos['DS_OCUPACAO'] == 'POLICIAL CIVIL') |\n",
    "                    (candidatos['DS_OCUPACAO'] == 'MILITAR REFORMADO') |\n",
    "                    (candidatos['DS_OCUPACAO'] == 'VIGILANTE') |\n",
    "                    (candidatos['DS_OCUPACAO'] == 'BOMBEIRO MILITAR') |\n",
    "                    (candidatos['DS_OCUPACAO'] == 'MEMBRO DAS FORÇAS ARMADAS') \n",
    "                   ]\n",
    "busca1.shape"
   ]
  },
  {
   "cell_type": "code",
   "execution_count": null,
   "id": "da875f0a-c09f-4150-991c-a2d6cef515e0",
   "metadata": {},
   "outputs": [],
   "source": []
  },
  {
   "cell_type": "code",
   "execution_count": null,
   "id": "d2cffc59-db0d-4008-9170-4849999d140d",
   "metadata": {},
   "outputs": [],
   "source": [
    "# Filtra os \"NM_URNA_CANDIDATO\" que podem indicar se os candidatos também são militares ou de segurança pública/privada"
   ]
  },
  {
   "cell_type": "code",
   "execution_count": 15,
   "id": "2522f14e-f95f-4426-af41-57c31b6efbb0",
   "metadata": {},
   "outputs": [],
   "source": [
    "candidatos['NM_URNA_CANDIDATO_UPPER'] = candidatos['NM_URNA_CANDIDATO'].str.upper()"
   ]
  },
  {
   "cell_type": "code",
   "execution_count": 16,
   "id": "7f2a9d30-b986-47e8-91e8-7192d4f65929",
   "metadata": {},
   "outputs": [],
   "source": [
    "search_list = ['POLICIAL', \n",
    "               'TENENTE', \n",
    "               'SUB-TENENTE', 'SUBTENENTE', \n",
    "               'COMANDANTE', \n",
    "               'CORONEL', \n",
    "               'MAJOR', \n",
    "               'CAPITÃO', 'CAPITÃ', \n",
    "               'SARGENTO', 'SARGENTA', \n",
    "               'ASPIRANTE', \n",
    "               'CABO', \n",
    "               'SOLDADO', 'SOLDADA', \n",
    "               'GENERAL', 'GENERALA'\n",
    "               'BOMBEIRO', 'BOMBEIRA',\n",
    "               'DELEGADO', 'DELEGADA',\n",
    "               'ESCRIVÃO', 'ESCRIVÃ', \n",
    "               'AGENTE', \n",
    "               'MILITAR',\n",
    "               'GUARDA'\n",
    "              ]\n",
    "\n",
    "mask = candidatos['NM_URNA_CANDIDATO_UPPER'].str.contains('|'.join(search_list))\n",
    "busca2 = candidatos[mask]"
   ]
  },
  {
   "cell_type": "code",
   "execution_count": 17,
   "id": "15c26a94-a454-4781-b8ea-384b814b1685",
   "metadata": {},
   "outputs": [
    {
     "data": {
      "text/plain": [
       "(1209, 72)"
      ]
     },
     "execution_count": 17,
     "metadata": {},
     "output_type": "execute_result"
    }
   ],
   "source": [
    "busca2.shape"
   ]
  },
  {
   "cell_type": "code",
   "execution_count": null,
   "id": "9b193afa-5dc8-415b-bafd-42319c2f858b",
   "metadata": {},
   "outputs": [],
   "source": []
  },
  {
   "cell_type": "code",
   "execution_count": null,
   "id": "6a866e92-72f0-4c31-8255-3f0013934857",
   "metadata": {},
   "outputs": [],
   "source": [
    "# Une os dois dataframes"
   ]
  },
  {
   "cell_type": "code",
   "execution_count": 18,
   "id": "7a09ef18-f888-4ec9-a070-2e3ecf255e3b",
   "metadata": {},
   "outputs": [],
   "source": [
    "frames = [busca1, busca2]\n",
    "final = pd.concat(frames)"
   ]
  },
  {
   "cell_type": "code",
   "execution_count": 19,
   "id": "17341a4f-9ae2-427a-85c9-8ddd7f7fed98",
   "metadata": {},
   "outputs": [
    {
     "data": {
      "text/plain": [
       "(2809, 72)"
      ]
     },
     "execution_count": 19,
     "metadata": {},
     "output_type": "execute_result"
    }
   ],
   "source": [
    "final.shape"
   ]
  },
  {
   "cell_type": "code",
   "execution_count": null,
   "id": "9d8b987d-e504-43af-ba4d-3290a80ec06a",
   "metadata": {},
   "outputs": [],
   "source": [
    "# Elimina os casos duplicados - têm nome urna e ocupação buscada"
   ]
  },
  {
   "cell_type": "code",
   "execution_count": 20,
   "id": "da66c704-81e7-455b-93bd-528d628fbda7",
   "metadata": {},
   "outputs": [],
   "source": [
    "final = final.drop_duplicates(subset='NR_CPF_CANDIDATO', keep=\"last\")"
   ]
  },
  {
   "cell_type": "code",
   "execution_count": 21,
   "id": "09125e6c-897e-45b5-85e0-e20251dada85",
   "metadata": {},
   "outputs": [
    {
     "data": {
      "text/plain": [
       "(2038, 72)"
      ]
     },
     "execution_count": 21,
     "metadata": {},
     "output_type": "execute_result"
    }
   ],
   "source": [
    "final.shape"
   ]
  },
  {
   "cell_type": "code",
   "execution_count": null,
   "id": "259b9a5b-ac33-4268-9c90-cc4f5fee0a59",
   "metadata": {},
   "outputs": [],
   "source": [
    "# Salva arquivo para checagem final manual"
   ]
  },
  {
   "cell_type": "code",
   "execution_count": 22,
   "id": "3a3af32b-5dbe-4acd-9bbc-204cf934ccde",
   "metadata": {},
   "outputs": [],
   "source": [
    "final.to_excel('candidatos_militares_seguranca_2022_versao2.xlsx',sheet_name='Sheet1',index=False)"
   ]
  },
  {
   "cell_type": "code",
   "execution_count": null,
   "id": "25687ffe-196e-41d3-bc83-3bcdb3797c1d",
   "metadata": {},
   "outputs": [],
   "source": []
  },
  {
   "cell_type": "code",
   "execution_count": null,
   "id": "f525cf57-ca7b-41f8-80de-48b173a33a40",
   "metadata": {},
   "outputs": [],
   "source": [
    "# Para candidatos com denominação religiosa o processo foi o mesmo\n",
    "# Foram usados os termos:\n",
    "# DS_OCUPACAO - SACERDOTE OU MEMBRO DE ORDEM OU SEITA RELIGIOSA\n",
    "# \n",
    "# NM_URNA_CANDIDATO, contendo, nos dois gêneros:\n",
    "# apóstola, apóstolo, babalorixá, bispa, bispo, irmã, irmão, mãe, pai, missionária, missionário, padre, pai, pastor, pastora, presbítero, \n",
    "# profeta, reverendo, yalorixá, pr. "
   ]
  },
  {
   "cell_type": "code",
   "execution_count": null,
   "id": "13b35d97-6582-48e8-b74d-0bd92438c7d8",
   "metadata": {},
   "outputs": [],
   "source": []
  }
 ],
 "metadata": {
  "kernelspec": {
   "display_name": "Python 3",
   "language": "python",
   "name": "python3"
  },
  "language_info": {
   "codemirror_mode": {
    "name": "ipython",
    "version": 3
   },
   "file_extension": ".py",
   "mimetype": "text/x-python",
   "name": "python",
   "nbconvert_exporter": "python",
   "pygments_lexer": "ipython3",
   "version": "3.8.2"
  }
 },
 "nbformat": 4,
 "nbformat_minor": 5
}
