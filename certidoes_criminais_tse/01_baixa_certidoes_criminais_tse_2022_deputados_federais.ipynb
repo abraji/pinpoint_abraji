{
 "cells": [
  {
   "cell_type": "code",
   "execution_count": null,
   "id": "0762b0dc-06f5-4b11-8668-891f11cefde1",
   "metadata": {},
   "outputs": [],
   "source": [
    "# -*- coding: utf-8\n",
    "# Reinaldo Chaves (@paidatocandeira)\n",
    "# Baixa certidoes criminais de candidatos a deputados federais nas eleições de 2022\n",
    "# Fonte: https://divulgacandcontas.tse.jus.br/divulga/#/\n",
    "# Hint: https://stackoverflow.com/questions/73506117/with-python-and-selenium-how-to-find-the-hidden-links-of-files-on-a-website\n",
    "# Usado Ubuntu 22.04.1 LTS\n",
    "#"
   ]
  },
  {
   "cell_type": "code",
   "execution_count": null,
   "id": "c3270ce8-90f3-4cb4-b410-22baefb0861f",
   "metadata": {},
   "outputs": [],
   "source": []
  },
  {
   "cell_type": "code",
   "execution_count": 9,
   "id": "e7177402-d33a-462f-89fd-020681b4eaea",
   "metadata": {},
   "outputs": [],
   "source": [
    "from selenium import webdriver\n",
    "from selenium.webdriver.chrome.service import Service\n",
    "from selenium.webdriver.chrome.options import Options\n",
    "from selenium.webdriver.common.by import By\n",
    "from selenium.webdriver.support.ui import WebDriverWait\n",
    "from selenium.webdriver.support import expected_conditions as EC\n",
    "import time as t\n",
    "import os\n",
    "import pandas as pd\n",
    "import requests\n",
    "import shutil"
   ]
  },
  {
   "cell_type": "code",
   "execution_count": null,
   "id": "389d435d-bcb8-4f43-bed3-1166cc0a57e0",
   "metadata": {},
   "outputs": [],
   "source": []
  },
  {
   "cell_type": "code",
   "execution_count": 11,
   "id": "79ac9cae-b1c5-4cf2-b720-50136cefcd4c",
   "metadata": {},
   "outputs": [],
   "source": [
    "# Chrome setup\n",
    "chrome_options = Options()\n",
    "# http://www.google.com/googlebooks/chrome/med_26.html\n",
    "chrome_options.add_argument(\"--no-sandbox\")\n",
    "chrome_options.add_argument('disable-notifications')\n",
    "chrome_options.add_argument(\"window-size=1280,720\")\n"
   ]
  },
  {
   "cell_type": "code",
   "execution_count": null,
   "id": "9c119e79-a38e-4448-83d1-88a81328b407",
   "metadata": {},
   "outputs": [],
   "source": []
  },
  {
   "cell_type": "code",
   "execution_count": null,
   "id": "f464f0a4-2936-4f17-a716-853ceabd85f3",
   "metadata": {},
   "outputs": [],
   "source": [
    "# Mostra diretório atual e seta um novo apenas para downloads"
   ]
  },
  {
   "cell_type": "code",
   "execution_count": 12,
   "id": "362fab71-af7f-4773-b210-b355f9c2f198",
   "metadata": {},
   "outputs": [
    {
     "data": {
      "text/plain": [
       "'/home/abraji/Documentos/Code/pinpoint/repo/resultados/certidoes'"
      ]
     },
     "execution_count": 12,
     "metadata": {},
     "output_type": "execute_result"
    }
   ],
   "source": [
    "os.getcwd()"
   ]
  },
  {
   "cell_type": "code",
   "execution_count": 13,
   "id": "124c86f8-9544-4972-8dec-0b05e8cedccd",
   "metadata": {},
   "outputs": [],
   "source": [
    "os.chdir('/home/abraji/Documentos/Code/pinpoint/repo/resultados/certidoes')"
   ]
  },
  {
   "cell_type": "code",
   "execution_count": null,
   "id": "0f562827-e014-42fe-acbb-8d42a33b9227",
   "metadata": {},
   "outputs": [],
   "source": []
  },
  {
   "cell_type": "code",
   "execution_count": 14,
   "id": "9aa135f7-f08c-4aea-810f-405b356136b5",
   "metadata": {},
   "outputs": [],
   "source": [
    "url_raiz = 'https://divulgacandcontas.tse.jus.br/divulga/#/candidato/2022/2040602022'"
   ]
  },
  {
   "cell_type": "code",
   "execution_count": null,
   "id": "44aef48a-6bf1-4a12-a41f-53140a7b3405",
   "metadata": {},
   "outputs": [],
   "source": []
  },
  {
   "cell_type": "code",
   "execution_count": 15,
   "id": "6d942694-0e38-47dc-9c4a-5eea5874b900",
   "metadata": {},
   "outputs": [
    {
     "data": {
      "text/plain": [
       "'\\nAcre (AC)\\nAlagoas (AL)\\nAmazonas (AM)\\nBahia (BA)\\nCeará (CE)\\nDistrito Federal (DF)\\nEspírito Santo (ES)\\nGoiás (GO)\\nMaranhão (MA)\\n\\nMato Grosso (MT)\\nMato Grosso do Sul (MS)\\nMinas Gerais (MG)\\n\\nPará (PA)\\nParaíba (PB)\\nParaná (PR)\\nPernambuco (PE)\\n\\nPiauí (PI)\\nRio Grande do Norte (RN)\\nRio Grande do Sul (RS)\\nRondônia (RO)\\n\\nRoraima (RR)\\nSanta Catarina (SC)\\nSergipe (SE)\\nTocantins (TO)\\n\\n'"
      ]
     },
     "execution_count": 15,
     "metadata": {},
     "output_type": "execute_result"
    }
   ],
   "source": [
    "'''\n",
    "Acre (AC)\n",
    "Alagoas (AL)\n",
    "Amazonas (AM)\n",
    "Bahia (BA)\n",
    "Ceará (CE)\n",
    "Distrito Federal (DF)\n",
    "Espírito Santo (ES)\n",
    "Goiás (GO)\n",
    "Maranhão (MA)\n",
    "\n",
    "Mato Grosso (MT)\n",
    "Mato Grosso do Sul (MS)\n",
    "Minas Gerais (MG)\n",
    "\n",
    "Pará (PA)\n",
    "Paraíba (PB)\n",
    "Paraná (PR)\n",
    "Pernambuco (PE)\n",
    "\n",
    "Piauí (PI)\n",
    "Rio Grande do Norte (RN)\n",
    "Rio Grande do Sul (RS)\n",
    "Rondônia (RO)\n",
    "\n",
    "Roraima (RR)\n",
    "Santa Catarina (SC)\n",
    "Sergipe (SE)\n",
    "Tocantins (TO)\n",
    "\n",
    "'''"
   ]
  },
  {
   "cell_type": "code",
   "execution_count": null,
   "id": "a9288c3e-0a7e-44df-9c7c-e8948eae9e3d",
   "metadata": {},
   "outputs": [],
   "source": []
  },
  {
   "cell_type": "code",
   "execution_count": 16,
   "id": "0e20cbcf-8d41-471e-a6c1-e6f8a8d53731",
   "metadata": {},
   "outputs": [
    {
     "data": {
      "text/plain": [
       "(795, 71)"
      ]
     },
     "execution_count": 16,
     "metadata": {},
     "output_type": "execute_result"
    }
   ],
   "source": [
    "# Lista de candidatos:\n",
    "# https://dadosabertos.tse.jus.br/dataset/candidatos-2022/resource/435145fd-bc9d-446a-ac9d-273f585a0bb9\n",
    "kwargs = {'sep': ';', 'dtype': str, 'encoding': 'latin_1'}\n",
    "candidatos = pd.read_csv(\"/home/abraji/Documentos/Code/pinpoint/repo/consulta_cand_2022_BRASIL_24_ago.csv\", **kwargs)\n",
    "# Exemplo de baixar 4 UFs\n",
    "busca = candidatos[((candidatos['SG_UF'] == 'RR') |\n",
    "                    (candidatos['SG_UF'] == 'SC') |\n",
    "                    (candidatos['SG_UF'] == 'SE') |\n",
    "                    (candidatos['SG_UF'] == 'TO') \n",
    "                    ) &\n",
    "                   (candidatos['DS_CARGO'] == 'DEPUTADO FEDERAL') \n",
    "                  ]\n",
    "busca.shape"
   ]
  },
  {
   "cell_type": "code",
   "execution_count": null,
   "id": "4cff82ca-f11f-4779-a19f-43b906a52aa5",
   "metadata": {},
   "outputs": [],
   "source": []
  },
  {
   "cell_type": "code",
   "execution_count": null,
   "id": "e9419afe-900c-498a-abdd-817be53505fe",
   "metadata": {},
   "outputs": [],
   "source": [
    "# Iteração no dataframe\n",
    "for num, row in busca.iterrows():\n",
    "    # Cria nome do arquivo para cada candidato\n",
    "    nome = (row['NM_CANDIDATO']).strip() + \"_\" + (row['SG_UF']).strip()  + \"_\" + (row['DS_CARGO']).strip()\n",
    "    uf = (row['SG_UF']).strip()\n",
    "    print(nome)\n",
    "    print(\"-/-\")\n",
    "    # O ID sequencial vai criar a URL do candidato\n",
    "    sequencial = (row['SQ_CANDIDATO']).strip()\n",
    "\n",
    "    # Cria o endereço completo da página\n",
    "    url_pag = url_raiz + '/' + uf + '/' + sequencial\n",
    "    print(url_pag)\n",
    "    \n",
    "    webdriver_service = Service('/home/abraji/Documentos/Code/chromedriver_linux64/chromedriver') ## caminho para onde você salvou o binário do chromedriver\n",
    "    browser = webdriver.Chrome(service=webdriver_service, options=chrome_options)\n",
    "    \n",
    "    counter = 0\n",
    "\n",
    "    browser.get(url_pag) \n",
    "    \n",
    "    \n",
    "    try:\n",
    "        # Com Inspecionar elemento achei o CSS selector das certidões em cada página - nela estão os links\n",
    "        links = WebDriverWait(browser, 20).until(EC.presence_of_all_elements_located((By.CSS_SELECTOR, \".dvg-link-doc.dvg-certidao\")))\n",
    "    \n",
    "    \n",
    "        # Itera nos links e clica em cada um\n",
    "        for x in range(len(links)):\n",
    "            current_link = links[counter]\n",
    "            print(current_link.text)\n",
    "            t.sleep(1)\n",
    "            current_link.click()\n",
    "            t.sleep(1)\n",
    "            browser.switch_to.window(browser.window_handles[-1])\n",
    "            print(browser.current_url)\n",
    "        \n",
    "            link_baixa = browser.current_url\n",
    "        \n",
    "            # Faz a requisição do link do PDF\n",
    "            r = requests.get(link_baixa,\n",
    "                 stream=True, headers={'User-agent': 'Mozilla/5.0'})\n",
    "        \n",
    "            nome_final = nome + \"_\" + str(counter) + \".pdf\"\n",
    "\n",
    "            # Testa se o link está ok\n",
    "            if r.status_code == 200:\n",
    "                # Se estiver - write in binary mode\n",
    "                with open(nome_final, 'wb') as f:\n",
    "                    r.raw.decode_content = True\n",
    "                    shutil.copyfileobj(r.raw, f)\n",
    "        \n",
    "            t.sleep(1)\n",
    "            # Abre a página inicial do candidato da vez\n",
    "            browser.get(url_pag) \n",
    "            # Adiciona no contador\n",
    "            counter = counter + 1\n",
    "            # captura o próximo link\n",
    "            links = WebDriverWait(browser, 20).until(EC.presence_of_all_elements_located((By.CSS_SELECTOR, \".dvg-link-doc.dvg-certidao\")))\n",
    "            t.sleep(1)\n",
    "        \n",
    "    except:\n",
    "        pass\n",
    "    # Fecha a página do candidato para abrir no próximo\n",
    "    browser.close()"
   ]
  },
  {
   "cell_type": "code",
   "execution_count": 36,
   "id": "54e6e018-7829-41cf-a7f8-f65edd386daa",
   "metadata": {},
   "outputs": [],
   "source": []
  },
  {
   "cell_type": "code",
   "execution_count": null,
   "id": "3879ee8b-b1d6-483f-a05e-d837f8510b54",
   "metadata": {},
   "outputs": [],
   "source": []
  },
  {
   "cell_type": "code",
   "execution_count": null,
   "id": "8fae34c7-a5b8-4740-ae10-21cbd15dfb4b",
   "metadata": {},
   "outputs": [],
   "source": []
  }
 ],
 "metadata": {
  "kernelspec": {
   "display_name": "Python 3",
   "language": "python",
   "name": "python3"
  },
  "language_info": {
   "codemirror_mode": {
    "name": "ipython",
    "version": 3
   },
   "file_extension": ".py",
   "mimetype": "text/x-python",
   "name": "python",
   "nbconvert_exporter": "python",
   "pygments_lexer": "ipython3",
   "version": "3.8.2"
  }
 },
 "nbformat": 4,
 "nbformat_minor": 5
}
